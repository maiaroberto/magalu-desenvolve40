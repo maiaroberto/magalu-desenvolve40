{
 "cells": [
  {
   "cell_type": "markdown",
   "metadata": {},
   "source": [
    "# Bem vindos a Let's Code!\n",
    "Parabéns por este passo dado em direção seu futuro.<br>\n",
    "Vamos programar?<br><br>\n",
    "<div>\n",
    "<img src=\"https://cio.com.br/wp-content/uploads/2020/10/linguagem-programacao-python-1024x576.jpg\" width=\"500\"/>\n",
    "</div>"
   ]
  },
  {
   "cell_type": "markdown",
   "metadata": {},
   "source": [
    "## 👨‍🏫 O Professor 👨‍🏫\n",
    "\n",
    "#### Brian Andrade Nunes\n",
    "- Graduando de Engenharia de Computação - POLI - USP<br />\n",
    "- Professor na Let's Code\n",
    "- Ex-estagiário no time de desenvolvimento do BTG Pactual\n",
    "- Estagiário no time de desenvolvimento da Let's Code\n",
    "- E-mail: brian.nunes@usp.br<br />\n",
    "- WhatsApp: (11) 96391-3887<br />"
   ]
  },
  {
   "cell_type": "markdown",
   "metadata": {},
   "source": [
    "## 📍 Tópicos de Hoje 📍\n",
    "<br>\n",
    "\n",
    "🖖 Conversa, Apresentação e o Curso\n",
    "\n",
    "👣 [Primeiros Passos: Seu Computador Sabe Python?](#um)\n",
    "\n",
    "👶 [Ambiente de Desenvolvimento: O Que São? Qual Usar?](#dois)\n",
    "\n",
    "🚶‍♂️ [Varíaveis: Conceito de Memória e Dados](#tres)\n",
    "\n",
    "🏃 [Operadores Matemáticos e Comunicação com o Usuário](#quatro)\n",
    "    \n",
    "🏆 [Exercícios](#cinco)\n",
    "\n",
    "🚀 [O Futuro...](#seis)"
   ]
  },
  {
   "cell_type": "markdown",
   "metadata": {},
   "source": [
    "## 💻🎓  Primeiros passos: Seu computador sabe Python? 💻🎓 <a class=\"anchor\" id=\"um\"></a>\n",
    "<br>\n",
    "\n",
    "<div align=\"justify\">\n",
    "&emsp; Antes de aprendermos Python nosso computador precisa entender Python, se você usa Linux ou MacOS seu computador já entende, mas se usa Windows não tema! Iremos ensinar nosso computador.<br>\n",
    "&emsp; Iremos instalar o Python, mas ele não é um programa normal que você abre e \"roda\", ele serve apenas para seu computador entender o que escrevermos na linguagem. Para isso vamos nesse link: <a href=\"https://www.python.org\">Instalador Python</a>, e na aba de <i>downloads</i> clicar na opçao mais a direita que aparecer.<br>\n",
    "&emsp; Basta iniciarmos o instalador baixado, mas <strong>cuidado</strong>, você <strong>deve</strong> marcar a opção de adicionar o Python no seu PATH do Windows para que funcione!<br>\n",
    "</div>\n",
    "\n",
    "<img src=\"https://phoenixnap.com/kb/wp-content/uploads/2021/04/python-setup.png\" width=\"500\"/><br>\n",
    "\n",
    "<div align=\"justify\">\n",
    "&emsp; Em seguida podemos seguir sem grandes novidades e perigos 😁<br><br>\n",
    "&emsp; Para conferir a instalação devemos abrir o terminal do nosso computador. Em Windows devemos usar: <b>Windows + R</b> escrever <b>\"cmd\"</b> e pressionar <b>Enter</b>; No Linux usamos <b>Ctrl + Alt + T</b>; E no MacOS apertaremos <b>Control + Espaço</b> e procuraremos por <b>Terminal</b> na barra do <i>Spotlight</i>. E dentro do terminal escreveremos <b>\"python --version\"</b> ou <b>\"python3 --version\"</b>, a saida esperada é algo como <b>\"Python 3.9.5\"</b>, ou seja, nossa nova linguagem do coração seguida da versão que instalamos dela!\n",
    "</div>"
   ]
  },
  {
   "cell_type": "markdown",
   "metadata": {},
   "source": [
    "## 🔧 Ambiente de desenvolvimento: O que são? Qual usar? 🔧<a class=\"anchor\" id=\"dois\"></a>\n",
    "\n",
    "&emsp; Ambientes de Desenvolvimentos, ou IDEs, são nosso campo de batalha, é onde a criança chora e a mãe não vê! É aqui que vamos escrever nossos códigos, inclusive, se você está lendo isso no seu computador, é por quê já está em uma IDE: o _Jupyter Notebook_ (ou qualquer leitor de _notebooks_ de Python como o _Google Colab_). <br>\n",
    "&emsp; No curso usarei principalmente o _Jupyter Notebook_ por ter a capacidade de desenvolver esses materiais com muuuuito carinho para vocês, onde texto, imagens e códigos podem ser misturados, além de ter a capacidade de rodar pequenos trechos de códigos um por vez o que nos ajuda a entender o que está acontecendo e manter a organização, mas não me limitarei a ele e também usarei o _Visual Studio Code_ por ser uma ferramenta mais robusta que conta com ferramentas que facilitam nosso desenvolvimento (como o _debug_ que veremos mais a frente!).<br>\n",
    "&emsp; Qual IDE usar vai depender muito de suas necessidades, mas recomendo que todos usem um leitor de _notebooks_ no curso para que vocês possam acompanhar o material fornecido e também consiguirem rodar pequenos pedaços isolados de código sem ter que criar um arquivo novo para cada um.<br>\n",
    "\n",
    "### Instalação do _Jupyter Notebook_\n",
    "&emsp; Para instalar o _Jupyter Notebook_ devemos abrir nosso terminal e escrever **\"pip install notebook\"**, o **pip** é um amigo nosso que servirá para instalar complementos para o Python. Após a instalação ser completa basta escrever **\"jupyter notebook\"** e seu navegador padrão será aberto rodando o _Jupyter_, note que você não pode fechar o terminal que usou para abrir, se não sua IDE não irá funcionar.<br>\n",
    "&emsp; Na tela inicial do _Jupyter_ temos o **_new_** e o **_upload_**, no _new_ podemos iniciar um _notebook_ novo na opção Python3, e no _upload_ adicionar um que baixamos, por exemplo. Vamos tentar com este que estou usando?<br>\n",
    "&emsp; Agora dentro de um _notebook_ podemos brincar com os blocos de _markdown_ onde escrevemos textos (desde texto puro até o uso de HTML para estilizar nosso conteúdo, nesse link vocês podem consultar muitas funcionalidades: <a href=\"https://medium.com/analytics-vidhya/the-ultimate-markdown-guide-for-jupyter-notebook-d5e5abf728fd\">Tutorial de Markdown</a>), e os blocos de código onde programaremos e iremos rodar usando os botões estilo multimídia na barra superior. Não se preocupem com o resto, aprenderemos com o tempo.<br>\n",
    "\n",
    "### Instalação do _Visual Studio Code_\n",
    "&emsp; Para instalar o _Visual Studio Code_ basta baixarmos no site: <a href=\"https://code.visualstudio.com\">Visual Studio Code</a>, e seguir a instalação, apenas percebam que na última tela devemos marcar tudo como na foto abaixo: <br>\n",
    "<img src=\"https://s3-sa-east-1.amazonaws.com/lcpi/627ae5e6-7486-400b-adcf-fe1f7fe71d0e.png\" width=\"500\"/><br>\n",
    "&emsp; E para finalmente rodarmos Python precisaremos de algumas gracinhas que nos ajudarão muito: as extensões. Elas podem ser fácilmente baixadas clicando aqui:<br>\n",
    "\n",
    "<img src=\"https://image.ibb.co/nqiKtd/Screenshot_32.png\" width=\"500\"/><br>\n",
    "\n",
    "&emsp; Em seguida podemos clicar em _file_ criar um arquivo com terminação _\".py\"_ e ser feliz! 😄<br>"
   ]
  },
  {
   "cell_type": "markdown",
   "metadata": {},
   "source": [
    "## 📥 Varíaveis: Conceito de memória e dados 📤 <a class=\"anchor\" id=\"tres\"></a>\n",
    "\n",
    "&emsp; Váriaveis como o próprio diz são \"coisas\" variáveis, e usaremos elas para armazenar nossos dados.<br>\n",
    "&emsp; Dados possuem tipos: **_string_** que armazena texto, **_int_** que armazena números inteiros, **_float_** que armazena números decimais (separados por ponto!), e **_boolean_** que armazenará _true_ ou _false_. Embora o Python faça o trabalho de saber o que é o que sozinho, você precisa entender os tipos de dados para trabalhar com eles.<br>"
   ]
  },
  {
   "cell_type": "code",
   "execution_count": 1,
   "metadata": {},
   "outputs": [
    {
     "name": "stdout",
     "output_type": "stream",
     "text": [
      "minhaPrimeiraString: 3.14\n",
      "meuPrimeiroInt: 6\n",
      "meuPrimeiroFloat: 6.4\n",
      "meuPrimeiroBoolean: True\n"
     ]
    }
   ],
   "source": [
    "minhaPrimeiraString = 'Olá Mundo!'\n",
    "meuPrimeiroInt = 5\n",
    "meuPrimeiroFloat = 6.4\n",
    "meuPrimeiroBoolean = True\n",
    "\n",
    "meuPrimeiroInt = 6\n",
    "minhaPrimeiraString = 3.14\n",
    "\n",
    "print(f\"minhaPrimeiraString: {minhaPrimeiraString}\")\n",
    "print(f\"meuPrimeiroInt: {meuPrimeiroInt}\")\n",
    "print(f\"meuPrimeiroFloat: {meuPrimeiroFloat}\")\n",
    "print(f\"meuPrimeiroBoolean: {meuPrimeiroBoolean}\")"
   ]
  },
  {
   "cell_type": "code",
   "execution_count": 2,
   "metadata": {},
   "outputs": [
    {
     "name": "stdout",
     "output_type": "stream",
     "text": [
      "meuTexto: True\n"
     ]
    }
   ],
   "source": [
    "meuTexto:bool = bool(\"a\")\n",
    "print(f\"meuTexto: {meuTexto}\") "
   ]
  },
  {
   "cell_type": "markdown",
   "metadata": {},
   "source": [
    "&emsp; Os tipos podem ser explicitados usando :**tipoDado** depois do nome da variável, além disso podemos fazer o _cast_ (mudança de tipo) usando _tipoDado(dadoQueQuerConverter)_ entre variaveis de diferentes tipos, mas note que isso pode gerar problemas se feito deliberadamente:<br>"
   ]
  },
  {
   "cell_type": "markdown",
   "metadata": {},
   "source": [
    "&emsp; Sempre tente usar nomes que façam sentidos no seu programa para não se atrapalharem, isso fará mais sentido nos exercícios.<br>\n",
    "&emsp; No Python podemos definir muitas variáveis numa mesma linha com valores diferentes ou o mesmo valor.<br>"
   ]
  },
  {
   "cell_type": "code",
   "execution_count": 5,
   "metadata": {},
   "outputs": [
    {
     "name": "stdout",
     "output_type": "stream",
     "text": [
      "Nome Pedro, Idade 16 e nota 9.0\n"
     ]
    }
   ],
   "source": [
    "Nome, Idade, Nota = \"Pedro\", 16, 9.0\n",
    "\n",
    "x = y = z = 0\n",
    "print(f\"Nome {Nome}, Idade {Idade} e nota {Nota}\")"
   ]
  },
  {
   "cell_type": "code",
   "execution_count": 8,
   "metadata": {},
   "outputs": [
    {
     "name": "stdout",
     "output_type": "stream",
     "text": [
      "<class 'float'> 25.0\n",
      "<class 'int'> 25\n"
     ]
    }
   ],
   "source": [
    "z = Idade + Nota\n",
    "\n",
    "print(type(z), z)\n",
    "y = int(z)\n",
    "print(type(y), y)"
   ]
  },
  {
   "cell_type": "markdown",
   "metadata": {},
   "source": [
    "## 🧮 Operadores Matemáticos e Comunicação com o Usuário 🧮 <a class=\"anchor\" id=\"quatro\"></a>\n",
    "\n",
    "### Operadores Matemáticos\n",
    "\n",
    "&emsp; O Python faz operações matemáticas entre variáveis e dados puros, a seguir temos uma tabela com os operadores e suas funções:<br>\n",
    "\n",
    "| Operador | Função           |\n",
    "|----------|------------------|\n",
    "| +        | Adição           |\n",
    "| -        | Subtração        |\n",
    "| *        | Multiplicação    |\n",
    "| /        | Divisão          |\n",
    "| %        | Resto de divisão |\n",
    "| **       | Potênciação      |\n",
    "| //       | Divisão Inteira  |\n",
    "\n",
    "&emsp; Além disso, fazemos uso de parênteses para definir ordem de contas assim como na matemática.<br>"
   ]
  },
  {
   "cell_type": "code",
   "execution_count": 9,
   "metadata": {},
   "outputs": [
    {
     "data": {
      "text/plain": [
       "12.5"
      ]
     },
     "execution_count": 9,
     "metadata": {},
     "output_type": "execute_result"
    }
   ],
   "source": [
    "nota1 = ((3 + 2) * 2) / 8 * 10\n",
    "nota1"
   ]
  },
  {
   "cell_type": "code",
   "execution_count": 10,
   "metadata": {},
   "outputs": [
    {
     "data": {
      "text/plain": [
       "2"
      ]
     },
     "execution_count": 10,
     "metadata": {},
     "output_type": "execute_result"
    }
   ],
   "source": [
    "11 % 3"
   ]
  },
  {
   "cell_type": "code",
   "execution_count": 11,
   "metadata": {},
   "outputs": [
    {
     "data": {
      "text/plain": [
       "3"
      ]
     },
     "execution_count": 11,
     "metadata": {},
     "output_type": "execute_result"
    }
   ],
   "source": [
    "11 // 3"
   ]
  },
  {
   "cell_type": "code",
   "execution_count": 12,
   "metadata": {},
   "outputs": [
    {
     "data": {
      "text/plain": [
       "3.6666666666666665"
      ]
     },
     "execution_count": 12,
     "metadata": {},
     "output_type": "execute_result"
    }
   ],
   "source": [
    "11 / 3"
   ]
  },
  {
   "cell_type": "code",
   "execution_count": 13,
   "metadata": {},
   "outputs": [
    {
     "data": {
      "text/plain": [
       "8"
      ]
     },
     "execution_count": 13,
     "metadata": {},
     "output_type": "execute_result"
    }
   ],
   "source": [
    "2 ** 3"
   ]
  },
  {
   "cell_type": "markdown",
   "metadata": {},
   "source": [
    "### input() e print()\n",
    "\n",
    "&emsp; A funcão input() irá ler uma entrada de usuário em formato de _string_ (portanto se você espera outro tipo de dado deverá fazer o _cast_), e podemos colocar outra _string_ dentro dos parênteses que será a pergunta feita ao usuário.<br>\n",
    "&emsp; A funcão print() irá imprimir algo para o usuário, e receberá o que ela deve imprimir dentro dos parênteses, podendo ser variáveis, textos e a mistura dos dois.<br>"
   ]
  },
  {
   "cell_type": "code",
   "execution_count": 14,
   "metadata": {},
   "outputs": [
    {
     "name": "stdout",
     "output_type": "stream",
     "text": [
      "Qual o seu nome? Roberto Maia\n"
     ]
    }
   ],
   "source": [
    "nome = input(\"Qual o seu nome? \")"
   ]
  },
  {
   "cell_type": "code",
   "execution_count": 15,
   "metadata": {},
   "outputs": [
    {
     "name": "stdout",
     "output_type": "stream",
     "text": [
      "Quantos anos você tem? 58\n"
     ]
    }
   ],
   "source": [
    "idade = int(input(\"Quantos anos você tem? \"))"
   ]
  },
  {
   "cell_type": "code",
   "execution_count": 16,
   "metadata": {},
   "outputs": [
    {
     "data": {
      "text/plain": [
       "str"
      ]
     },
     "execution_count": 16,
     "metadata": {},
     "output_type": "execute_result"
    }
   ],
   "source": [
    "type(nome)"
   ]
  },
  {
   "cell_type": "code",
   "execution_count": 17,
   "metadata": {},
   "outputs": [
    {
     "data": {
      "text/plain": [
       "int"
      ]
     },
     "execution_count": 17,
     "metadata": {},
     "output_type": "execute_result"
    }
   ],
   "source": [
    "type(idade)"
   ]
  },
  {
   "cell_type": "code",
   "execution_count": 5,
   "metadata": {},
   "outputs": [
    {
     "name": "stdout",
     "output_type": "stream",
     "text": [
      "Seu nome é Roberto Oliveira de Azevedo Maia Filho sua idade é 58 . Bem-vindo! 9 True\n"
     ]
    }
   ],
   "source": [
    "print(\"Seu nome é\", nome, \"sua idade é\", idade, \". Bem-vindo!\", 9, True)"
   ]
  },
  {
   "cell_type": "code",
   "execution_count": 7,
   "metadata": {},
   "outputs": [
    {
     "name": "stdout",
     "output_type": "stream",
     "text": [
      "Bom dia, Roberto Oliveira de Azevedo Maia Filho, você tem 58 anos. 7\n"
     ]
    }
   ],
   "source": [
    "print(f\"Bom dia, {nome}, você tem {idade} anos. {4*2-1}\")"
   ]
  },
  {
   "cell_type": "code",
   "execution_count": 6,
   "metadata": {},
   "outputs": [
    {
     "name": "stdout",
     "output_type": "stream",
     "text": [
      "Digite a primeira nota: 8\n"
     ]
    }
   ],
   "source": [
    "nota1 = float(input(\"Digite a primeira nota: \"))"
   ]
  },
  {
   "cell_type": "markdown",
   "metadata": {},
   "source": [
    "## 🎯 Exercícios 🎯 <a class=\"anchor\" id=\"cinco\"></a>\n",
    "\n",
    "**1)** Faça um Programa que mostre a mensagem \"Alo mundo\" na tela."
   ]
  },
  {
   "cell_type": "code",
   "execution_count": 18,
   "metadata": {},
   "outputs": [
    {
     "name": "stdout",
     "output_type": "stream",
     "text": [
      "Alô Mundo!\n"
     ]
    }
   ],
   "source": [
    "print(\"Alô Mundo!\")"
   ]
  },
  {
   "cell_type": "markdown",
   "metadata": {},
   "source": [
    "**2)** Faça um Programa que peça as 4 notas bimestrais e mostre a média."
   ]
  },
  {
   "cell_type": "code",
   "execution_count": 1,
   "metadata": {},
   "outputs": [
    {
     "name": "stdout",
     "output_type": "stream",
     "text": [
      "Digite a primeira nota: 5\n",
      "Digite a segunda nota: 4\n",
      "Digite a terceira nota: 7\n",
      "Digite a quarta nota: 8\n",
      "Media das notas 5.0, 4.0, 7.0 e 8.0 é igual a 6.0\n"
     ]
    }
   ],
   "source": [
    "n1 = float(input(\"Digite a primeira nota: \"))\n",
    "n2 = float(input(\"Digite a segunda nota: \"))\n",
    "n3 = float(input(\"Digite a terceira nota: \"))\n",
    "n4 = float(input(\"Digite a quarta nota: \"))\n",
    "\n",
    "media = (n1 + n2 + n3 + n4) / 4\n",
    "\n",
    "print(f\"Media das notas {n1}, {n2}, {n3} e {n4} é igual a {media}\")"
   ]
  },
  {
   "cell_type": "code",
   "execution_count": 2,
   "metadata": {},
   "outputs": [
    {
     "name": "stdout",
     "output_type": "stream",
     "text": [
      "Digite a 1º nota : 5\n",
      "Digite a 2º nota : 4\n",
      "Digite a 3º nota : 10\n",
      "Digite a 4º nota : 1\n",
      "Media das notas 5.0, 4.0, 10.0 e 1.0 é igual a 5.00\n"
     ]
    }
   ],
   "source": [
    "media = 0\n",
    "notas = []\n",
    "cont = 1\n",
    "while cont <= 4:\n",
    "    notas.append(float(input(f\"Digite a {cont}º nota : \")))\n",
    "    cont += 1\n",
    "media = sum(notas) / 4   \n",
    "print(f\"Media das notas {notas[0]}, {notas[1]}, {notas[2]} e {notas[3]} é igual a {media:.2f}\")"
   ]
  },
  {
   "cell_type": "markdown",
   "metadata": {},
   "source": [
    "**3)** Faça um Programa que pergunte quanto você ganha por hora e o número de horas trabalhadas no mês. Calcule e mostre o total do seu salário no referido mês."
   ]
  },
  {
   "cell_type": "code",
   "execution_count": 83,
   "metadata": {},
   "outputs": [
    {
     "name": "stdout",
     "output_type": "stream",
     "text": [
      "Valor da Hora trabalhada: 4.5\n",
      "Número de Horas no mês: 220\n",
      "Salario no mês = 990.00\n"
     ]
    }
   ],
   "source": [
    "valorHora = float(input(\"Valor da Hora trabalhada: \"))\n",
    "numeroHoras = float(input(\"Número de Horas no mês: \"))\n",
    "salario = valorHora * numeroHoras\n",
    "print(f\"Salario no mês = {salario:.2f}\")"
   ]
  },
  {
   "cell_type": "markdown",
   "metadata": {},
   "source": [
    "**4)** Faça um Programa que peça a temperatura em graus Fahrenheit, transforme e mostre a temperatura em graus Celsius.<br>\n",
    "$$ C = \\frac{5 * (F-32)}{9} $$"
   ]
  },
  {
   "cell_type": "code",
   "execution_count": 3,
   "metadata": {},
   "outputs": [
    {
     "name": "stdout",
     "output_type": "stream",
     "text": [
      "Temperatura em graus Fahrenheit: -40\n",
      "-40.0° fahrenheit é igual a -40.0° Celsius\n"
     ]
    }
   ],
   "source": [
    "fahrenheit = float(input(\"Temperatura em graus Fahrenheit: \"))\n",
    "celsius = (5 * (fahrenheit -32)) / 9\n",
    "print(f\"{fahrenheit:.1f}° fahrenheit é igual a {celsius:.1f}° Celsius\")"
   ]
  },
  {
   "cell_type": "markdown",
   "metadata": {},
   "source": [
    "**5)** Faça um Programa que pergunte quanto você ganha por hora e o número de horas trabalhadas no mês. Calcule e mostre o total do seu salário no referido mês, sabendo-se que são descontados 11% para o Imposto de Renda, 8% para o INSS e 5% para o sindicato, faça um programa que nos dê:\n",
    "- Salário bruto.\n",
    "- Quanto pagou de IR\n",
    "- Quanto pagou ao INSS.\n",
    "- Quanto pagou ao sindicato.\n",
    "- O salário líquido."
   ]
  },
  {
   "cell_type": "code",
   "execution_count": 86,
   "metadata": {},
   "outputs": [
    {
     "name": "stdout",
     "output_type": "stream",
     "text": [
      "Valor da Hora trabalhada: 5\n",
      "Número de Horas no mês  : 200\n",
      "TOTAIS:\n",
      "Salario Bruto =  1000.00\n",
      "IR           -=   110.00\n",
      "INSS         -=    80.00\n",
      "Sindicato    -=    50.00\n",
      "Liquido       =   760.00\n"
     ]
    }
   ],
   "source": [
    "valorHora = float(input(\"Valor da Hora trabalhada: \"))\n",
    "numeroHoras = float(input(\"Número de Horas no mês  : \"))\n",
    "\n",
    "salario = valorHora * numeroHoras\n",
    "ir = salario * 0.11\n",
    "inss = salario * 0.08\n",
    "sindicato = salario * 0.05\n",
    "liquido = salario - (ir + inss + sindicato)\n",
    "\n",
    "print(\"TOTAIS:\")\n",
    "print(f\"Salario Bruto = {salario:8.2f}\")\n",
    "print(f\"IR           -= {ir:8.2f}\")\n",
    "print(f\"INSS         -= {inss:8.2f}\")\n",
    "print(f\"Sindicato    -= {sindicato:8.2f}\")\n",
    "print(f\"Liquido       = {liquido:8.2f}\")"
   ]
  },
  {
   "cell_type": "markdown",
   "metadata": {},
   "source": [
    "**6)** Faça um Programa para uma loja de tintas. O programa deverá pedir o tamanho em metros quadrados da área a ser pintada. Considere que a cobertura da tinta é de 1 litro para cada 6 metros quadrados e que a tinta é vendida em latas de 18 litros, que custam 80,00 reais ou em galões de 3,6 litros, que custam 25,00 reais.<br>\n",
    "&emsp; Informe ao usuário as quantidades de tinta a serem compradas e os respectivos preços em 3 situações:\n",
    "- Comprar apenas latas de 18 litros;\n",
    "- Comprar apenas galões de 3,6 litros;\n",
    "- Misturar latas e galões, de forma que o desperdício de tinta seja menor. Acrescente 10% de folga e sempre arredonde os valores para cima, isto é, considere latas cheias. (É possível fazer isso com o que aprendemos até agora?)"
   ]
  },
  {
   "cell_type": "code",
   "execution_count": 82,
   "metadata": {},
   "outputs": [
    {
     "name": "stdout",
     "output_type": "stream",
     "text": [
      "110.00000000000001 litros de tinta \n",
      "6.0 latas de 18 litros\n",
      "31 galao de 3.6 litros\n",
      "2.000000000000014 Litros Restantes\n",
      "1 galao\n"
     ]
    }
   ],
   "source": [
    "area = 600\n",
    "cobertura = 6\n",
    "litros = (area // cobertura) *1.1\n",
    "print(litros, \"litros de tinta \")\n",
    "lata = litros // 18\n",
    "print(lata, \"latas de 18 litros\")\n",
    "\n",
    "galao = round(litros / 3.6)\n",
    "print(galao, \"galao de 3.6 litros\")\n",
    "\n",
    "resto = (litros - (lata * 18)) \n",
    "\n",
    "print(resto, \"Litros Restantes\") \n",
    "galao = round(resto / 3.6)\n",
    "print(galao, \"galao\")\n"
   ]
  },
  {
   "cell_type": "code",
   "execution_count": 4,
   "metadata": {},
   "outputs": [
    {
     "name": "stdout",
     "output_type": "stream",
     "text": [
      "LOJA DE TINTAS\n",
      "Digite a área (m2) a ser pintada: 600\n",
      "As opções são:\n",
      "1a. Comprar 5.0 lata(s) de 18.0 Litros, ao custo de 80.00 por Lata, dá um total de 400.00\n",
      "2a. Comprar 27.0 galão(ões) de 3.6 Litros, ao custo de 25.00 por galão, dá um total de 675.00\n",
      "3a. Comprar 6.0 lata(s) + 1 galão(ões), em um total de 505.00\n"
     ]
    }
   ],
   "source": [
    "print(\"LOJA DE TINTAS\")\n",
    "\n",
    "coberturaTinta = 6.0\n",
    "lataLitro = 18.0\n",
    "galaoLitro = 3.6\n",
    "precoLata = 80.00\n",
    "precoGalao = 25.00\n",
    "\n",
    "area = float(input(\"Digite a área (m2) a ser pintada: \"))\n",
    "\n",
    "litros = area / coberturaTinta\n",
    "\n",
    "lata  = litros // lataLitro\n",
    "galao = litros // galaoLitro\n",
    "  \n",
    "valorLatas = lata * precoLata\n",
    "valorGaloes= galao * precoGalao\n",
    "\n",
    "litros *= 1.1\n",
    "mixLata  = litros // lataLitro \n",
    "\n",
    "resto = (litros - (mixLata * lataLitro)) \n",
    "mixGalao = round( resto / galaoLitro) \n",
    "\n",
    "valorMix = (mixGalao * precoGalao) + (mixLata * precoLata)\n",
    "\n",
    "print(\"As opções são:\")\n",
    "print(f\"1a. Comprar {lata} lata(s) de {lataLitro} Litros, ao custo de {precoLata:.2f} por Lata, dá um total de {valorLatas:.2f}\" )\n",
    "print(f\"2a. Comprar {galao} galão(ões) de {galaoLitro} Litros, ao custo de {precoGalao:.2f} por galão, dá um total de {valorGaloes:.2f}\")\n",
    "print(f\"3a. Comprar {mixLata} lata(s) + {mixGalao} galão(ões), em um total de {valorMix:.2f}\")"
   ]
  },
  {
   "cell_type": "code",
   "execution_count": 5,
   "metadata": {},
   "outputs": [
    {
     "name": "stdout",
     "output_type": "stream",
     "text": [
      "Qual a área a ser pintada? 600\n",
      "Você precisa comprar 5.555555555555555 latas pagando R$444.44444444444446\n",
      "Você precisa comprar 27.77777777777778 galoes pagando R$694.4444444444445\n",
      "Você precisa comprar 6.0 latas e 0.5555555555555595 galoes pagando R$493.88888888888897\n"
     ]
    }
   ],
   "source": [
    "area_pintada = float(input(\"Qual a área a ser pintada? \"))\n",
    "qtnde_litros = area_pintada/6\n",
    "\n",
    "latas = qtnde_litros/18\n",
    "\n",
    "galoes = qtnde_litros/3.6\n",
    "qtnde_litros = qtnde_litros * 1.1 # qtnde_litros *= 1.1\n",
    "latas_mista = qtnde_litros//18\n",
    "galoes_mista = (qtnde_litros%18)/3.6\n",
    "print(f\"Você precisa comprar {latas } latas pagando R${latas*80}\")\n",
    "print(f\"Você precisa comprar {galoes} galoes pagando R${galoes*25}\")\n",
    "print(f\"Você precisa comprar {latas_mista} latas e {galoes_mista} galoes pagando R${galoes_mista*25 + latas_mista*80}\")\n"
   ]
  },
  {
   "cell_type": "markdown",
   "metadata": {},
   "source": [
    "## 🌌 O futuro... 🌌 <a class=\"anchor\" id=\"seis\"></a>\n",
    "\n",
    "&emsp; Treinem bastante esses conteúdos, se habituem com os ambientes de programação e com os diferentes dados que podemos lidar, na próxima aula iremos entender condicionais e a partir dai teremos cada vez mais possibilidades de exercícios e, portanto, de aplicações dos nossos conhecimentos.\n",
    "\n",
    "# Acabooou! 🎉 Agradeço pela atenção de todos! 😄\n",
    "## Qualquer dúvida não hesitem em me chamar. 👩‍💻"
   ]
  },
  {
   "cell_type": "code",
   "execution_count": null,
   "metadata": {},
   "outputs": [],
   "source": []
  },
  {
   "cell_type": "code",
   "execution_count": 6,
   "metadata": {},
   "outputs": [
    {
     "name": "stdout",
     "output_type": "stream",
     "text": [
      "curso ---> Python Pro\n",
      "escola ---> Let's Code\n",
      "unidade ---> Faria Lima\n"
     ]
    }
   ],
   "source": [
    "dicionario = {'curso':'Python Pro', 'escola':\"Let's Code\"}\n",
    "dicionario.update({'unidade':'Faria Lima'})\n",
    "\n",
    "for chave in dicionario:\n",
    "    print(chave, '--->', dicionario[chave])"
   ]
  },
  {
   "cell_type": "code",
   "execution_count": 7,
   "metadata": {},
   "outputs": [
    {
     "name": "stdout",
     "output_type": "stream",
     "text": [
      "Chaves:  ['curso', 'escola', 'unidade']\n",
      "Valores: ['Python Pro', \"Let's Code\", 'Faria Lima']\n"
     ]
    }
   ],
   "source": [
    "dicionario = {'curso':'Python Pro', 'escola':\"Let's Code\"}\n",
    "dicionario.update({'unidade':'Faria Lima'})\n",
    "\n",
    "chaves = list(dicionario.keys()) # converte para lista\n",
    "valores = list(dicionario.values()) # converte para lista\n",
    "\n",
    "print('Chaves: ', chaves)\n",
    "print('Valores:', valores)"
   ]
  },
  {
   "cell_type": "code",
   "execution_count": null,
   "metadata": {},
   "outputs": [],
   "source": []
  }
 ],
 "metadata": {
  "kernelspec": {
   "display_name": "Python 3 (ipykernel)",
   "language": "python",
   "name": "python3"
  },
  "language_info": {
   "codemirror_mode": {
    "name": "ipython",
    "version": 3
   },
   "file_extension": ".py",
   "mimetype": "text/x-python",
   "name": "python",
   "nbconvert_exporter": "python",
   "pygments_lexer": "ipython3",
   "version": "3.8.9"
  }
 },
 "nbformat": 4,
 "nbformat_minor": 4
}
