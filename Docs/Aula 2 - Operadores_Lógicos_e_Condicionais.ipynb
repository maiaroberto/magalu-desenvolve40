{
 "cells": [
  {
   "cell_type": "markdown",
   "metadata": {
    "id": "fTK6j_15-s5G"
   },
   "source": [
    "# Aula  - Operadores Lógicos e Estruturas Condicionais\n",
    "\n",
    "Na aula de hoje, vamos explorar os seguintes tópicos em Python:\n",
    "\n",
    "- 1) Operadores lógicos;\n",
    "- 2) Estruturas condicionais;\n",
    "\n",
    "_______\n",
    "\n",
    "### Objetivos\n",
    "\n",
    "Apresentar aos alunos os operadores lógicos de comparação e de conjunção, declarando a importância das operações lógicas nas estruturas condicionais e de repetição, que são apresentadas a seguir; Apresentar o conceito, uso e importâncias das estruturas condicionais em Python.\n",
    "\n",
    "### Habilidades a serem desenvolvidas\n",
    "\n",
    "Ao final da aula o aluno deve:\n",
    "\n",
    "- Saber o conceito de operações lógicas e o seu resultado (True/False);\n",
    "- Saber interpretar e utilizar os operadores de comparação;\n",
    "- Saber interpretar e uitlizar os operadores de conjunção;\n",
    "- Saber formular expressões lógicas;"
   ]
  },
  {
   "cell_type": "markdown",
   "metadata": {
    "id": "-7JgFrgF-s5N"
   },
   "source": [
    "____"
   ]
  },
  {
   "cell_type": "markdown",
   "metadata": {
    "id": "GGjc-OqP-s5O"
   },
   "source": [
    "## 1) Operadores lógicos\n",
    "\n",
    "Em muitos problemas de programação, há necessidade de se fazer **comparações** entre variáveis.\n",
    "\n",
    "Por exemplo:\n",
    "\n",
    "- checar se um número é maior que outro;\n",
    "- checar se uma variável é igual a outra;\n",
    "- checar se há números diferentes; etc.\n",
    "\n",
    "Para fazer essas comparações, utilizamos os **operadores lógicos de comparação**. Em Python, há 6 desses operadores:\n",
    "\n",
    "- Maior que: >\n",
    "- Maior ou igual: >=\n",
    "- Menor que: <\n",
    "- Menor ou igual: <=\n",
    "- Igual: ==\n",
    "- Diferente: !=\n",
    "\n",
    "O resultado de uma comparação sempre vai ser um booleano, isto é, **True** ou **False**!\n",
    "\n",
    "Dica: sempre leia as comparações como uma **pergunta**\n",
    "\n",
    "- Ex: \"numero < 100\", leia: \"o valor na variável numero é menor que 100?\"\n",
    "\n",
    "Os operadores de comparação são destacados em **roxo** no Jupyter"
   ]
  },
  {
   "cell_type": "code",
   "execution_count": 1,
   "metadata": {
    "id": "fR9Wg0nz-s5Q"
   },
   "outputs": [
    {
     "data": {
      "text/plain": [
       "False"
      ]
     },
     "execution_count": 1,
     "metadata": {},
     "output_type": "execute_result"
    }
   ],
   "source": [
    "100 > 100"
   ]
  },
  {
   "cell_type": "code",
   "execution_count": 2,
   "metadata": {
    "id": "MRjQHETc-s5R"
   },
   "outputs": [
    {
     "data": {
      "text/plain": [
       "False"
      ]
     },
     "execution_count": 2,
     "metadata": {},
     "output_type": "execute_result"
    }
   ],
   "source": [
    "100 < 10"
   ]
  },
  {
   "cell_type": "code",
   "execution_count": 3,
   "metadata": {
    "id": "XuRDtQFH-s5S"
   },
   "outputs": [
    {
     "data": {
      "text/plain": [
       "True"
      ]
     },
     "execution_count": 3,
     "metadata": {},
     "output_type": "execute_result"
    }
   ],
   "source": [
    "100 >= 100"
   ]
  },
  {
   "cell_type": "code",
   "execution_count": 4,
   "metadata": {
    "id": "0jG-iSxq-s5U"
   },
   "outputs": [
    {
     "data": {
      "text/plain": [
       "False"
      ]
     },
     "execution_count": 4,
     "metadata": {},
     "output_type": "execute_result"
    }
   ],
   "source": [
    "10 == 11"
   ]
  },
  {
   "cell_type": "markdown",
   "metadata": {
    "id": "_TZxdKfb-s5V"
   },
   "source": [
    "A comparação pode ser feita entre duas variáveis, também:"
   ]
  },
  {
   "cell_type": "code",
   "execution_count": 5,
   "metadata": {
    "id": "LaeOD047-s5W"
   },
   "outputs": [
    {
     "data": {
      "text/plain": [
       "True"
      ]
     },
     "execution_count": 5,
     "metadata": {},
     "output_type": "execute_result"
    }
   ],
   "source": [
    "valorA = 100\n",
    "valorB = 100\n",
    "valorA <= valorB"
   ]
  },
  {
   "cell_type": "markdown",
   "metadata": {
    "id": "oS3-nGCZ-s5X"
   },
   "source": [
    "Python aceita multiplar comparações de ordem na mesma expressão:"
   ]
  },
  {
   "cell_type": "code",
   "execution_count": 7,
   "metadata": {
    "id": "F0M5zEb--s5X"
   },
   "outputs": [
    {
     "data": {
      "text/plain": [
       "True"
      ]
     },
     "execution_count": 7,
     "metadata": {},
     "output_type": "execute_result"
    }
   ],
   "source": [
    "n = 1000\n",
    "10 < n <= 1000"
   ]
  },
  {
   "cell_type": "markdown",
   "metadata": {
    "id": "bW21HKr1-s5Y"
   },
   "source": [
    "Podemos também comparar strings!"
   ]
  },
  {
   "cell_type": "code",
   "execution_count": 8,
   "metadata": {
    "id": "9CoAKqGb-s5Z"
   },
   "outputs": [
    {
     "data": {
      "text/plain": [
       "True"
      ]
     },
     "execution_count": 8,
     "metadata": {},
     "output_type": "execute_result"
    }
   ],
   "source": [
    "\"olá mundo\" == \"olá mundo\""
   ]
  },
  {
   "cell_type": "markdown",
   "metadata": {
    "id": "r-rQTOsA-s5a"
   },
   "source": [
    "Os operadores >, >=, <, <= atuam comparando **ordem alfabética** quando aplicados a strings."
   ]
  },
  {
   "cell_type": "code",
   "execution_count": 9,
   "metadata": {
    "id": "2Bws_ji--s5a"
   },
   "outputs": [
    {
     "data": {
      "text/plain": [
       "True"
      ]
     },
     "execution_count": 9,
     "metadata": {},
     "output_type": "execute_result"
    }
   ],
   "source": [
    "\"abacaxi\" < \"banana\""
   ]
  },
  {
   "cell_type": "markdown",
   "metadata": {
    "id": "ZyFmZB4E-s5a"
   },
   "source": [
    "Podemos fazer comparação entre **tipos numéricos** diferentes (int e float):"
   ]
  },
  {
   "cell_type": "code",
   "execution_count": 10,
   "metadata": {
    "id": "1xbQysEQ-s5b"
   },
   "outputs": [
    {
     "data": {
      "text/plain": [
       "False"
      ]
     },
     "execution_count": 10,
     "metadata": {},
     "output_type": "execute_result"
    }
   ],
   "source": [
    "valorA = 3\n",
    "valorB = -3.14\n",
    "\n",
    "valorA < valorB"
   ]
  },
  {
   "cell_type": "markdown",
   "metadata": {
    "id": "Ek8N6wCT-s5b"
   },
   "source": [
    "Mas comparações entre string e tipos numéricos são possíveis **apenas para == e !=**:\n"
   ]
  },
  {
   "cell_type": "code",
   "execution_count": 11,
   "metadata": {
    "id": "veSrR3Xv-s5c"
   },
   "outputs": [
    {
     "data": {
      "text/plain": [
       "True"
      ]
     },
     "execution_count": 11,
     "metadata": {},
     "output_type": "execute_result"
    }
   ],
   "source": [
    "int(\"1\") == 1"
   ]
  },
  {
   "cell_type": "code",
   "execution_count": 11,
   "metadata": {
    "id": "qFp_Y_pd-s5c"
   },
   "outputs": [
    {
     "data": {
      "text/plain": [
       "True"
      ]
     },
     "execution_count": 11,
     "metadata": {},
     "output_type": "execute_result"
    }
   ],
   "source": [
    "\"2\" != str(1)"
   ]
  },
  {
   "cell_type": "code",
   "execution_count": 12,
   "metadata": {
    "id": "0C1t-TzP-s5d"
   },
   "outputs": [
    {
     "data": {
      "text/plain": [
       "False"
      ]
     },
     "execution_count": 12,
     "metadata": {},
     "output_type": "execute_result"
    }
   ],
   "source": [
    "\"1\" == 1"
   ]
  },
  {
   "cell_type": "code",
   "execution_count": 14,
   "metadata": {},
   "outputs": [
    {
     "ename": "TypeError",
     "evalue": "'>' not supported between instances of 'str' and 'int'",
     "output_type": "error",
     "traceback": [
      "\u001b[1;31m---------------------------------------------------------------------------\u001b[0m",
      "\u001b[1;31mTypeError\u001b[0m                                 Traceback (most recent call last)",
      "\u001b[1;32m~\\AppData\\Local\\Temp/ipykernel_7800/2741971002.py\u001b[0m in \u001b[0;36m<module>\u001b[1;34m\u001b[0m\n\u001b[1;32m----> 1\u001b[1;33m \u001b[1;34m\"1\"\u001b[0m \u001b[1;33m>\u001b[0m \u001b[1;36m1\u001b[0m\u001b[1;33m\u001b[0m\u001b[1;33m\u001b[0m\u001b[0m\n\u001b[0m",
      "\u001b[1;31mTypeError\u001b[0m: '>' not supported between instances of 'str' and 'int'"
     ]
    }
   ],
   "source": [
    "\"1\" > 1"
   ]
  },
  {
   "cell_type": "markdown",
   "metadata": {
    "id": "-_JdJTp_-s5k"
   },
   "source": [
    "___"
   ]
  },
  {
   "cell_type": "markdown",
   "metadata": {
    "id": "XvnoBWHQ-s5l"
   },
   "source": [
    "Além dos operadores lógicos de comparação, também temos os **operadores lógicos de conjunção**, que são utilizados pra fazer uma **combinação** entre comparações. \n",
    "\n",
    "Os operadores de conjunção são: **and** e **or**, e eles seguem a seguinte regra:\n",
    "\n",
    "- **and** só é True se **ambas** as comparações forem True:\n",
    "    - False and True resulta em \"False\"\n",
    "    - False and False resulta em \"False\"\n",
    "    - True and True resulta em \"True\"\n",
    "- **or** é True se **pelo menos uma** das comparações for True:\n",
    "    - False or True resulta em \"True\"\n",
    "    - True or True resulta em \"True\"\n",
    "    - False or False resulta em \"False\"\n",
    "\n",
    "Os operadores de conjunção são destacados em **verde escuro** no Jupyter"
   ]
  },
  {
   "cell_type": "code",
   "execution_count": 13,
   "metadata": {
    "id": "HHW79msX-s5m"
   },
   "outputs": [
    {
     "name": "stdout",
     "output_type": "stream",
     "text": [
      "Operador and:\n",
      "False\n",
      "False\n",
      "False\n",
      "True\n"
     ]
    }
   ],
   "source": [
    "print(\"Operador and:\")\n",
    "print(False and False)\n",
    "print(True and False)\n",
    "print(False and True)\n",
    "print(True and True)"
   ]
  },
  {
   "cell_type": "code",
   "execution_count": 14,
   "metadata": {
    "id": "vJviVhl6-s5m"
   },
   "outputs": [
    {
     "data": {
      "text/plain": [
       "True"
      ]
     },
     "execution_count": 14,
     "metadata": {},
     "output_type": "execute_result"
    }
   ],
   "source": [
    "10 < 50 and 5 == 5"
   ]
  },
  {
   "cell_type": "code",
   "execution_count": 15,
   "metadata": {
    "id": "xd7_ZHQV-s5n"
   },
   "outputs": [
    {
     "name": "stdout",
     "output_type": "stream",
     "text": [
      "Operador or:\n",
      "False\n",
      "True\n",
      "True\n",
      "True\n"
     ]
    }
   ],
   "source": [
    "print(\"Operador or:\")\n",
    "print(False or False)\n",
    "print(False or True)\n",
    "print(True or False)\n",
    "print(True or True)"
   ]
  },
  {
   "cell_type": "code",
   "execution_count": 16,
   "metadata": {
    "id": "ZRzlQ84n-s5n"
   },
   "outputs": [
    {
     "data": {
      "text/plain": [
       "True"
      ]
     },
     "execution_count": 16,
     "metadata": {},
     "output_type": "execute_result"
    }
   ],
   "source": [
    "\"Brian\" == \"Brian\" or 100 >= 10"
   ]
  },
  {
   "cell_type": "markdown",
   "metadata": {
    "id": "hU76A2Bs-s5n"
   },
   "source": [
    "Se tivermos mais de duas comparações pra fazer conjunção, é melhor usarmos parênteses.\n",
    "\n",
    "Primeiro a conjunção entre parênteses é feita, e depois o resultado é usado pra avaliar a conjunção total"
   ]
  },
  {
   "cell_type": "code",
   "execution_count": 17,
   "metadata": {
    "id": "jVdEbRiQ-s5p"
   },
   "outputs": [
    {
     "data": {
      "text/plain": [
       "True"
      ]
     },
     "execution_count": 17,
     "metadata": {},
     "output_type": "execute_result"
    }
   ],
   "source": [
    "3 < 10 and (\"Caio\" == \"Caio \" or 50 >= 50)"
   ]
  },
  {
   "cell_type": "markdown",
   "metadata": {
    "id": "zGFZrVed-s5p"
   },
   "source": [
    "#### Not"
   ]
  },
  {
   "cell_type": "code",
   "execution_count": 20,
   "metadata": {
    "id": "PRWOI-6C-s5p"
   },
   "outputs": [
    {
     "data": {
      "text/plain": [
       "False"
      ]
     },
     "execution_count": 20,
     "metadata": {},
     "output_type": "execute_result"
    }
   ],
   "source": [
    "not True  # inversão"
   ]
  },
  {
   "cell_type": "markdown",
   "metadata": {
    "id": "KVs-ny8l-s5p"
   },
   "source": [
    "# Condicionais (If)\n",
    "O condicional If tem a seguinte estrutura"
   ]
  },
  {
   "cell_type": "code",
   "execution_count": null,
   "metadata": {
    "id": "rEnZRGdW-s5q"
   },
   "outputs": [],
   "source": [
    "if condicao:\n",
    "    # código a ser executado se a condição for satisfeita"
   ]
  },
  {
   "cell_type": "markdown",
   "metadata": {
    "id": "QiA-CgO9-s5q"
   },
   "source": [
    "Note que seu programa vai seguir um fluxo linha a linha e na condicional haverá um possível **desvio de fluxo**, isto é, caso a condição não seja satisfeita o código pula tudo que esta dentro do if, e o que está dentro do if? Tudo aquilo que está na **identação** do if, ou seja, está um _tab_ mais a frente que o if."
   ]
  },
  {
   "cell_type": "code",
   "execution_count": 22,
   "metadata": {
    "id": "rcNTY9fX-s5q"
   },
   "outputs": [
    {
     "name": "stdout",
     "output_type": "stream",
     "text": [
      "Digite o valor de 'a': 50\n",
      "Digite o valor de 'b': 20\n",
      "'a' maior que 'b'\n",
      "Fim\n"
     ]
    }
   ],
   "source": [
    "a = int(input(\"Digite o valor de 'a': \"))\n",
    "b = int(input(\"Digite o valor de 'b': \"))\n",
    "\n",
    "if a > b:\n",
    "    print(\"'a' maior que 'b'\")\n",
    "\n",
    "print(\"Fim\")"
   ]
  },
  {
   "cell_type": "markdown",
   "metadata": {
    "id": "VRfC3HDD-s5r"
   },
   "source": [
    "### Elif\n",
    "O _elif_ deve ser lido com **se não**, portanto ele será uma nova condição que será testada **caso a condição do if (ou outros elifs acima) NÃO seja satisfeita**, e sua estrutura é a seguinte:"
   ]
  },
  {
   "cell_type": "code",
   "execution_count": null,
   "metadata": {
    "id": "_KCS8nZM-s5r"
   },
   "outputs": [],
   "source": [
    "if condicao:\n",
    "    # codigo caso if seja satisfeito\n",
    "elif condicaoElif:\n",
    "    # codigo caso elif satisfeito\n",
    "elif condicaoElif2:\n",
    "    # codigo caso elif2 satisfeito\n",
    "elif condicaoElif3:\n",
    "    # codigo caso elif3 satisfeito"
   ]
  },
  {
   "cell_type": "markdown",
   "metadata": {
    "id": "sYF3UpCp-s5r"
   },
   "source": [
    "Note que podemos ter de 0 a N _elifs_, e seu código seguirá uma ordem de conferir as condições uma a uma até que uma seja satisfeita, seu código executa **e todo o resto do bloco de if elif será ignorado**. Note também que caso nenhuma condição seja satisfeita nada dentro do if e elifs é executado e o código \"passa reto\"."
   ]
  },
  {
   "cell_type": "code",
   "execution_count": 18,
   "metadata": {
    "id": "t1gAQ-Ge-s5s"
   },
   "outputs": [
    {
     "name": "stdout",
     "output_type": "stream",
     "text": [
      "Digite o valor de 'nota': -1\n",
      "Fim\n"
     ]
    }
   ],
   "source": [
    "nota = int(input(\"Digite o valor de 'nota': \"))\n",
    "\n",
    "if nota > 10:\n",
    "    print(\"'nota' maior que 10\")\n",
    "elif 7 < nota:\n",
    "    print(\"'nota' entre 7 e 10\")\n",
    "elif 3 < nota:\n",
    "    print(\"'nota' entre 3 e 7\")\n",
    "elif 0 < nota:\n",
    "    print(\"'nota' entre 0 e 3\")\n",
    "    \n",
    "print(\"Fim\")"
   ]
  },
  {
   "cell_type": "markdown",
   "metadata": {
    "id": "sacW4meD-s5s"
   },
   "source": [
    "### Else\n",
    "\n",
    "O else deve ser lido como um **então ou caso contrário**, ele, diferente dos exemplos acima, não tem uma condiçao, ele será colocado ao fim do bloco if e será executado **quando todas as condições anteriores forem insatisfeitas**, a estrutura com else fica da seguinte maneira:"
   ]
  },
  {
   "cell_type": "code",
   "execution_count": 28,
   "metadata": {
    "id": "50EkoACK-s5s"
   },
   "outputs": [
    {
     "ename": "IndentationError",
     "evalue": "expected an indented block (Temp/ipykernel_7800/694868504.py, line 3)",
     "output_type": "error",
     "traceback": [
      "\u001b[1;36m  File \u001b[1;32m\"C:\\Users\\Maia\\AppData\\Local\\Temp/ipykernel_7800/694868504.py\"\u001b[1;36m, line \u001b[1;32m3\u001b[0m\n\u001b[1;33m    elif condicaoElif:\u001b[0m\n\u001b[1;37m    ^\u001b[0m\n\u001b[1;31mIndentationError\u001b[0m\u001b[1;31m:\u001b[0m expected an indented block\n"
     ]
    }
   ],
   "source": [
    "if condicao:\n",
    "    # codigo caso if seja satisfeito\n",
    "elif condicaoElif:\n",
    "    # codigo caso elif satisfeito\n",
    "else:\n",
    "    # codigo caso if e elif insatisfeito\n",
    "    \n",
    "if condicao:\n",
    "    # codigo caso if seja satisfeito\n",
    "else:\n",
    "    # codigo caso if insatisfeito"
   ]
  },
  {
   "cell_type": "markdown",
   "metadata": {
    "id": "rsIapO7q-s5t"
   },
   "source": [
    "Note que no contexto de _if else_ os _elifs_ são opcionais, portanto um bloco completo de _if_ pode possuir de 0 a N _elifs_ entre o _if_ e o _else_."
   ]
  },
  {
   "cell_type": "code",
   "execution_count": 35,
   "metadata": {
    "id": "5E2R8N7f-s5t"
   },
   "outputs": [
    {
     "name": "stdout",
     "output_type": "stream",
     "text": [
      "Digite o valor de 'a': -4\n",
      "'a' é menor ou igual a 0\n",
      "Fim\n"
     ]
    }
   ],
   "source": [
    "a = float(input(\"Digite o valor de 'a': \"))\n",
    "\n",
    "if a > 10:\n",
    "    print(\"'a' maior que 10\")\n",
    "elif 7 < a and a <= 10:\n",
    "    print(\"'a' entre +7 e 10\")\n",
    "elif 3 < a <= 7:\n",
    "    print(\"'a' entre +3 e 7\")\n",
    "elif 0 < a <= 3:\n",
    "    print(\"'a' entre +0 e 3\")\n",
    "else:\n",
    "    print(\"'a' é menor ou igual a 0\")\n",
    "    \n",
    "print(\"Fim\")"
   ]
  },
  {
   "cell_type": "markdown",
   "metadata": {
    "id": "6ZVj2aAX-s5t"
   },
   "source": [
    "### Condicional Aninhada\n",
    "\n",
    "Dentro de um _if, elif ou else_ podemos ter outros blocos de _ifs_ o que chamamos de aninhamento, isto pode ser feito para facilitar leitura de código ou mesmo para validar uma segunda condição que afeitaria pouco o código da primeira, veja o exemplo:"
   ]
  },
  {
   "cell_type": "code",
   "execution_count": 31,
   "metadata": {
    "id": "vHyKjjRJ-s5u"
   },
   "outputs": [
    {
     "name": "stdout",
     "output_type": "stream",
     "text": [
      "Digite seu nome: Maia\n",
      "Digite sua idade: 58\n",
      "Você tem habilitação? (S/N): S\n",
      "Olá, Maia você tem 58 anos e pode dirigir\n"
     ]
    }
   ],
   "source": [
    "nome = input(\"Digite seu nome: \")\n",
    "idade = int(input(\"Digite sua idade: \"))\n",
    "\n",
    "if idade >= 18:\n",
    "    habilitado = input(\"Você tem habilitação? (S/N): \")\n",
    "    if habilitado == \"S\":\n",
    "        print(\"Olá,\", nome, \"você tem\", idade, \"anos e pode dirigir\")\n",
    "    else:\n",
    "        print(\"Olá,\", nome, \"você tem\", idade, \"anos mas não pode dirigir\")\n",
    "else:\n",
    "    print(\"Olá,\", nome, \"você é menor de idade, por tanto não pode dirigir.\")"
   ]
  },
  {
   "cell_type": "markdown",
   "metadata": {
    "id": "8V0xl_wm-s5u"
   },
   "source": [
    "### Condicional Curta (Operador ternário)\n",
    "Operadores ternários são maneiras bem enxutas de escrever condicionais simples em apenas uma linha\n",
    "#### If Curto"
   ]
  },
  {
   "cell_type": "code",
   "execution_count": 36,
   "metadata": {
    "id": "LFZptPv0-s5v"
   },
   "outputs": [
    {
     "name": "stdout",
     "output_type": "stream",
     "text": [
      "Digite um valor para 'a': 11\n",
      "'a' maior que 10\n"
     ]
    }
   ],
   "source": [
    "a = int(input(\"Digite um valor para 'a': \"))\n",
    "\n",
    "if a > 10: print(\"'a' maior que 10\")"
   ]
  },
  {
   "cell_type": "markdown",
   "metadata": {
    "id": "We7bpkdm-s5v"
   },
   "source": [
    "#### If Else Curto"
   ]
  },
  {
   "cell_type": "code",
   "execution_count": 37,
   "metadata": {
    "id": "Lw60oAyj-s5v"
   },
   "outputs": [
    {
     "name": "stdout",
     "output_type": "stream",
     "text": [
      "Digite um valor para 'a': 5\n",
      "'a' menor ou igual a 10\n"
     ]
    }
   ],
   "source": [
    "a = int(input(\"Digite um valor para 'a': \"))\n",
    "\n",
    "print(\"'a' maior que 10\") if a > 10 else print(\"'a' menor ou igual a 10\")"
   ]
  },
  {
   "cell_type": "code",
   "execution_count": null,
   "metadata": {
    "id": "PwB7tHHE-s5w"
   },
   "outputs": [],
   "source": [
    "a = int(input(\"Digite um valor para 'a': \"))\n",
    "\n",
    "# if a > 10:\n",
    "#     y = 1\n",
    "# else:\n",
    "#     y = 4\n",
    "\n",
    "# y = a > 10 (para booleano direto)\n",
    "\n",
    "y = (1 if a > 10 else 4)\n",
    "    \n",
    "print(y)"
   ]
  },
  {
   "cell_type": "markdown",
   "metadata": {
    "id": "Ale_4ko1-s5w"
   },
   "source": [
    "## Exercícios"
   ]
  },
  {
   "cell_type": "markdown",
   "metadata": {
    "id": "ezd35ieU-s5w"
   },
   "source": [
    "**1)** Um posto está vendendo combustíveis com a seguinte tabela de descontos: <br>\n",
    "\n",
    "Álcool:<br>\n",
    " - até 20 litros, desconto de 3% por litro\n",
    " - acima de 20 litros, desconto de 5% por litro <br>\n",
    " \n",
    "Gasolina:<br>\n",
    " - até 20 litros, desconto de 4% por litro\n",
    " - acima de 20 litros, desconto de 6% por litro. \n",
    " \n",
    "Escreva um algoritmo que leia o número de litros vendidos, o tipo de combustível (codificado da seguinte forma: A-álcool, G-gasolina), calcule e imprima o valor a ser pago pelo cliente sabendo-se que o preço do litro da gasolina é 2,50 reais o preço do litro do álcool é 1,90 reais."
   ]
  },
  {
   "cell_type": "code",
   "execution_count": 11,
   "metadata": {
    "id": "gS4TPS2u-s5w"
   },
   "outputs": [
    {
     "name": "stdout",
     "output_type": "stream",
     "text": [
      "número de litros vendidos: 12\n",
      "Tipo de Combustivel A-álcool, G-gasolina):g\n",
      "valor a ser pago R$ 28.80\n"
     ]
    }
   ],
   "source": [
    "alcool20 = .03\n",
    "alcoolMais = .05\n",
    "\n",
    "gas20 = .04\n",
    "gasMais = .06\n",
    "\n",
    "alcool = 1.90\n",
    "gas = 2.50\n",
    "\n",
    "litros = float(input(\"número de litros vendidos: \"))\n",
    "tipoCombustivel = input(\"Tipo de Combustivel A-álcool, G-gasolina):\")\n",
    "\n",
    "valorPago = 0.0\n",
    "\n",
    "if tipoCombustivel == \"A\" or tipoCombustivel == \"a\":\n",
    "    valorPago = litros * alcool\n",
    "    if litros > 20:\n",
    "        valorPago -= valorPago * alcoolMais\n",
    "    else:\n",
    "        valorPago -= valorPago * alcool20\n",
    "elif tipoCombustivel == \"G\" or tipoCombustivel == \"g\":\n",
    "    valorPago = litros * gas\n",
    "    if litros > 20:\n",
    "        valorPago -= valorPago * gasMais\n",
    "    else:\n",
    "        valorPago -= valorPago * gas20\n",
    "else: \n",
    "    print(\"Tipo de Combustivel invalido\")\n",
    "    \n",
    "print(f\"valor a ser pago R$ {valorPago:.2f}\")    "
   ]
  },
  {
   "cell_type": "markdown",
   "metadata": {
    "id": "JedsJCH--s5x"
   },
   "source": [
    "**2)** Faça um programa que faça 5 perguntas para uma pessoa sobre um crime. As perguntas são:\n",
    "\n",
    "- \"Telefonou para a vítima?\"\n",
    "- \"Esteve no local do crime?\"\n",
    "- \"Mora perto da vítima?\"\n",
    "- \"Devia para a vítima?\"\n",
    "- \"Já trabalhou com a vítima?\"\n",
    "\n",
    "O programa deve no final emitir uma classificação sobre a participação da pessoa no crime. Se a pessoa responder positivamente a 2 questões ela deve ser classificada como \"Suspeita\", entre 3 e 4 como \"Cúmplice\" e 5 como \"Assassino\". Caso contrário, ele será classificado como \"Inocente\"."
   ]
  },
  {
   "cell_type": "code",
   "execution_count": 12,
   "metadata": {
    "id": "tjynZVUE-s5x"
   },
   "outputs": [
    {
     "name": "stdout",
     "output_type": "stream",
     "text": [
      "Telefonou para a vítima?s\n",
      "Esteve no local do crime?n\n",
      "Mora perto da vítima?n\n",
      "Devia para a vítima?n\n",
      "Já trabalhou com a vítima?n\n",
      "Inocente\n"
     ]
    }
   ],
   "source": [
    "telefonou = input(\"Telefonou para a vítima?\")\n",
    "esteve = input(\"Esteve no local do crime?\")\n",
    "mora = input(\"Mora perto da vítima?\")\n",
    "devia = input(\"Devia para a vítima?\")\n",
    "trabalhou = input(\"Já trabalhou com a vítima?\")\n",
    "\n",
    "classifica = 0\n",
    "\n",
    "if telefonou == 'S' or telefonou == 's': classifica +=1 \n",
    "if esteve == 'S' or esteve == 's': classifica +=1 \n",
    "if mora == 'S' or mora == 's': classifica +=1 \n",
    "if devia == 'S' or devia == 's': classifica +=1 \n",
    "if trabalhou == 'S' or trabalhou == 's': classifica +=1 \n",
    "\n",
    "if classifica == 5:\n",
    "    print(\"Assasino\")\n",
    "elif classifica >=3:\n",
    "    print(\"Cumplice\")\n",
    "elif classifica >=2:\n",
    "    print(\"Suspeita\")\n",
    "else:\n",
    "    print(\"Inocente\")"
   ]
  },
  {
   "cell_type": "markdown",
   "metadata": {
    "id": "tCwo6AlA-s5x"
   },
   "source": [
    "**3)** Faça um Programa que leia um número inteiro menor que 1000 e imprima a quantidade de centenas, dezenas e unidades do mesmo. Observando os termos no plural a colocação do \"e\", da vírgula entre outros. Exemplo:\n",
    "\n",
    "326 = 3 centenas, 2 dezenas e 6 unidades <br>\n",
    "12 = 1 dezena e 2 unidades"
   ]
  },
  {
   "cell_type": "code",
   "execution_count": 1,
   "metadata": {
    "id": "Ipk-s1E3-s5x"
   },
   "outputs": [
    {
     "name": "stdout",
     "output_type": "stream",
     "text": [
      "Digite um número menor que 1000: -301\n",
      "-301 = 3 Centenas, 1 unidade\n"
     ]
    }
   ],
   "source": [
    "numero = int(input(\"Digite um número menor que 1000: \"))\n",
    "\n",
    "num = (numero * -1) if numero < 0 else numero\n",
    "  \n",
    "c = num // 100\n",
    "d = (num - (c*100)) // 10\n",
    "u = num - (c*100) - (d*10)\n",
    "\n",
    "texto = f\"{numero} = \"\n",
    "liga = \"\"\n",
    "if c > 0:\n",
    "   texto += f\"{c} Centena\" if c == 1 else f\"{c} Centenas\"\n",
    "   liga = \", \" \n",
    "if d > 0: \n",
    "  texto += liga + (f\"{d} dezena\" if d == 1 else f\"{d} dezenas\")\n",
    "  liga = \" e \" \n",
    "\n",
    "if u > 0: \n",
    "  texto += liga + (f\"{u} unidade\" if u == 1 else f\"{u} unidades\")\n",
    "\n",
    "print(texto)\n"
   ]
  },
  {
   "cell_type": "markdown",
   "metadata": {
    "id": "tfxbHpCy-s5y"
   },
   "source": [
    "**4)** Faça um programa que calcule as raízes de uma equação do segundo grau, na forma:\n",
    "\n",
    "$ax^{2} + bx + c$ \n",
    "\n",
    "O programa deverá pedir os valores de a, b e c, informando ao usuário nas seguintes situações:\n",
    "Se o usuário informar o valor de A igual a zero, a equação não é do segundo grau e o programa não deve fazer pedir os demais valores, sendo encerrado;\n",
    "Se o delta calculado for negativo, a equação não possui raizes reais. Informe ao usuário e encerre o programa;\n",
    "Se o delta calculado for igual a zero a equação possui apenas uma raiz real; informe-a ao usuário;\n",
    "Se o delta for positivo, a equação possui duas raiz reais; informe-as ao usuário;"
   ]
  },
  {
   "cell_type": "code",
   "execution_count": 24,
   "metadata": {
    "id": "v9OnFD1x-s5y"
   },
   "outputs": [
    {
     "name": "stdout",
     "output_type": "stream",
     "text": [
      "Equação do 2° Grau\n",
      "Valor a = 1\n",
      "Valor b = 0\n",
      "Valor c = -4\n",
      "x1 = -2.0000\n",
      "x2 = 2.0000\n"
     ]
    }
   ],
   "source": [
    "print(\"Equação do 2° Grau\")\n",
    "\n",
    "a = float(input(\"Valor a = \"))\n",
    "\n",
    "if a != 0:\n",
    "   b = float(input(\"Valor b = \"))\n",
    "   c = float(input(\"Valor c = \"))\n",
    "    \n",
    "   delta = b**2 -4*a*c\n",
    "   \n",
    "   if delta < 0: \n",
    "      print(\"A equação não possui raizes Reais\") \n",
    "   elif delta == 0:       \n",
    "      x1 = (-b) / (2*a)\n",
    "      print(f\"x = {x1:.4f}\")     \n",
    "   else: \n",
    "      x1 = (-b - (delta)**(1/2)/(2*a))     \n",
    "      x2 = (-b + (delta)**(1/2)/(2*a))\n",
    "      print(f\"x1 = {x1:.4f}\")     \n",
    "      print(f\"x2 = {x2:.4f}\")     \n",
    "else:              \n",
    "   print(\"Não é uma equação do 2° Grau\")\n",
    "    "
   ]
  },
  {
   "cell_type": "markdown",
   "metadata": {
    "id": "raU1WHWu-s5y"
   },
   "source": [
    "**5)** Faça um Programa que peça os 3 lados de um triângulo. O programa deverá informar se os valores podem ser um triângulo. Indique, caso os lados formem um triângulo, se o mesmo é: equilátero, isósceles ou escaleno.\n",
    "\n",
    "Dicas:\n",
    "- Três lados formam um triângulo quando a soma de quaisquer dois lados for maior que o terceiro;\n",
    "- Triângulo Equilátero: três lados iguais;\n",
    "- Triângulo Isósceles: quaisquer dois lados iguais;\n",
    "- Triângulo Escaleno: três lados diferentes;"
   ]
  },
  {
   "cell_type": "code",
   "execution_count": 29,
   "metadata": {},
   "outputs": [
    {
     "name": "stdout",
     "output_type": "stream",
     "text": [
      "Digite o lado A: 3\n",
      "Digite o lado B: 4\n",
      "Digite o lado C: 5\n",
      "Triângulo Escaleno\n"
     ]
    }
   ],
   "source": [
    "a = float(input(\"Digite o lado A: \"))\n",
    "b = float(input(\"Digite o lado B: \"))\n",
    "c = float(input(\"Digite o lado C: \"))\n",
    "\n",
    "if (a + b < c) or (a + c < b) or (b + c < a):\n",
    "    print('Os valores não podem formar um triângulo.')\n",
    "elif (a == b) and (a == c) :\n",
    "    print('Triângulo Equilátero')\n",
    "elif (a==b) or (a==c) or (b==c):\n",
    "    print('Triângulo Isósceles')\n",
    "else:\n",
    "    print('Triângulo Escaleno')"
   ]
  },
  {
   "cell_type": "markdown",
   "metadata": {},
   "source": [
    "Exercicios da plataforma\n"
   ]
  },
  {
   "cell_type": "code",
   "execution_count": 6,
   "metadata": {
    "id": "YodPIrKN-s5y"
   },
   "outputs": [
    {
     "name": "stdout",
     "output_type": "stream",
     "text": [
      "Digite o primeiro número: 1\n",
      "Digite o segundo número: 10\n",
      "Digite o terceiro número: 2\n",
      "A maior numero é 10\n"
     ]
    }
   ],
   "source": [
    "numero1 = int(input(\"Digite o primeiro número: \"))\n",
    "numero2 = int(input(\"Digite o segundo número: \"))\n",
    "numero3 = int(input(\"Digite o terceiro número: \"))\n",
    "\n",
    "maior = numero1\n",
    "if numero2 >= maior: maior = numero2\n",
    "if numero3 >= maior: maior = numero3\n",
    "\n",
    "print(\"A maior numero é\", maior) "
   ]
  },
  {
   "cell_type": "markdown",
   "metadata": {},
   "source": [
    "Dado um número digitado pelo usuário, mostre se ele é par ou ímpar"
   ]
  },
  {
   "cell_type": "code",
   "execution_count": 47,
   "metadata": {},
   "outputs": [
    {
     "name": "stdout",
     "output_type": "stream",
     "text": [
      "Digite um número2\n",
      "par\n"
     ]
    }
   ],
   "source": [
    "numero = int(input(\"Digite um número\"))\n",
    "print(\"par\") if numero % 2 == 0 else print(\"Impar\")"
   ]
  },
  {
   "cell_type": "markdown",
   "metadata": {},
   "source": [
    "Faça um Programa que verifique se uma letra digitada é \"F\" ou \"M\". \n",
    "Após o usuário digitar, o programa deve mostrar na tela uma das opções:\n",
    "F - Feminino, M - Masculino ou Sexo Inválido. O programa deve funcionar para letras maiúsculas e minúsculas."
   ]
  },
  {
   "cell_type": "code",
   "execution_count": 51,
   "metadata": {},
   "outputs": [
    {
     "name": "stdout",
     "output_type": "stream",
     "text": [
      "Digite M=Masculino ou F=Feminino F\n",
      "Feminino\n"
     ]
    }
   ],
   "source": [
    "sexo = input(\"Digite M=Masculino ou F=Feminino \")\n",
    "if sexo == \"M\" or sexo == \"m\":\n",
    "    print(\"Masculino\")\n",
    "elif sexo == \"F\" or sexo == \"f\":    \n",
    "    print(\"Feminino\")\n",
    "else:    \n",
    "    print(\"Sexo invalido\")"
   ]
  },
  {
   "cell_type": "code",
   "execution_count": null,
   "metadata": {},
   "outputs": [],
   "source": []
  }
 ],
 "metadata": {
  "colab": {
   "name": "Aula 2 - Operadores Lógicos e Condicionais.ipynb",
   "provenance": []
  },
  "kernelspec": {
   "display_name": "Python 3 (ipykernel)",
   "language": "python",
   "name": "python3"
  },
  "language_info": {
   "codemirror_mode": {
    "name": "ipython",
    "version": 3
   },
   "file_extension": ".py",
   "mimetype": "text/x-python",
   "name": "python",
   "nbconvert_exporter": "python",
   "pygments_lexer": "ipython3",
   "version": "3.8.9"
  }
 },
 "nbformat": 4,
 "nbformat_minor": 1
}
