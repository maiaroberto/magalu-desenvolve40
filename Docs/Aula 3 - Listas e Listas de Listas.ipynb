{
 "cells": [
  {
   "cell_type": "markdown",
   "metadata": {},
   "source": [
    "# Aula 3 - Listas e Listas de Listas\n",
    "\n",
    "Na aula de hoje, vamos explorar os seguintes tópicos em Python:\n",
    "\n",
    "- 1) Listas\n",
    "- 2) Funções de listas\n",
    "\n",
    "_________________\n",
    "\n",
    "### Objetivos\n",
    "\n",
    "Apresentar o conceito de lista, e as principais propriedades desta estrutura de dados; Depois, introduzir as principais funções aplicadas a listas."
   ]
  },
  {
   "cell_type": "markdown",
   "metadata": {},
   "source": [
    "____\n",
    "____\n",
    "____"
   ]
  },
  {
   "cell_type": "markdown",
   "metadata": {},
   "source": [
    "## 1) Listas\n",
    "\n",
    "Imagine que você quer armazenar várias variáveis relacionadas, como, por exemplo, todas suas notas em provas.\n",
    "\n",
    "Se houver muitas notas, não é muito prático criar uma variável para cada uma. Seria muito mais conveniente armazenar todas as notas em uma **lista**, não é mesmo? \n",
    "\n",
    "Em python, temos uma estrutura de dados que é exatamente isso: uma lista! Listas são indicadas por colchete []\n",
    "\n",
    "Uma lista nada mais é que um **conjunto de objetos**, que podem ser de diversos tipos:"
   ]
  },
  {
   "cell_type": "markdown",
   "metadata": {},
   "source": [
    "Lista de números (int e float)"
   ]
  },
  {
   "cell_type": "code",
   "execution_count": 1,
   "metadata": {},
   "outputs": [],
   "source": [
    "lista = [1, 2, 45, 44, 3.14, 42, 65.45567, -346346]"
   ]
  },
  {
   "cell_type": "code",
   "execution_count": 2,
   "metadata": {},
   "outputs": [
    {
     "data": {
      "text/plain": [
       "[1, 2, 45, 44, 3.14, 42, 65.45567, -346346]"
      ]
     },
     "execution_count": 2,
     "metadata": {},
     "output_type": "execute_result"
    }
   ],
   "source": [
    "lista"
   ]
  },
  {
   "cell_type": "markdown",
   "metadata": {},
   "source": [
    "Lista de strings"
   ]
  },
  {
   "cell_type": "code",
   "execution_count": 3,
   "metadata": {},
   "outputs": [],
   "source": [
    "lista_de_strings = [\"a\", \"olá, mundo\", \"andré\"]"
   ]
  },
  {
   "cell_type": "code",
   "execution_count": 4,
   "metadata": {},
   "outputs": [
    {
     "data": {
      "text/plain": [
       "['a', 'olá, mundo', 'andré']"
      ]
     },
     "execution_count": 4,
     "metadata": {},
     "output_type": "execute_result"
    }
   ],
   "source": [
    "lista_de_strings"
   ]
  },
  {
   "cell_type": "markdown",
   "metadata": {},
   "source": [
    "Lista de números e strings"
   ]
  },
  {
   "cell_type": "code",
   "execution_count": 5,
   "metadata": {},
   "outputs": [
    {
     "data": {
      "text/plain": [
       "['andré', 343, -34.545]"
      ]
     },
     "execution_count": 5,
     "metadata": {},
     "output_type": "execute_result"
    }
   ],
   "source": [
    "listas_num_strings = [\"andré\", 343, -34.545]\n",
    "\n",
    "listas_num_strings"
   ]
  },
  {
   "cell_type": "markdown",
   "metadata": {},
   "source": [
    "Lista de listas"
   ]
  },
  {
   "cell_type": "code",
   "execution_count": 1,
   "metadata": {},
   "outputs": [
    {
     "name": "stdout",
     "output_type": "stream",
     "text": [
      "<class 'list'> [[1, 2, 3], ['oi', 'python']]\n"
     ]
    }
   ],
   "source": [
    "lista_de_listas = [[1, 2, 3], [\"oi\", \"python\"]]\n",
    "print(type(lista_de_listas), lista_de_listas)"
   ]
  },
  {
   "cell_type": "markdown",
   "metadata": {},
   "source": [
    "Tudo junto"
   ]
  },
  {
   "cell_type": "code",
   "execution_count": 3,
   "metadata": {},
   "outputs": [
    {
     "name": "stdout",
     "output_type": "stream",
     "text": [
      "andre\n",
      "True\n",
      "2\n",
      "3\n",
      "ar\n"
     ]
    }
   ],
   "source": [
    "numero = 2\n",
    "nome = \"andre\"\n",
    "\n",
    "lista = [\"ar\", 3, numero, True, nome]\n",
    "\n",
    "print(lista[-1])\n",
    "print(lista[-2])\n",
    "print(lista[-3])\n",
    "print(lista[-4])\n",
    "print(lista[-5])\n"
   ]
  },
  {
   "cell_type": "markdown",
   "metadata": {},
   "source": [
    "Muitas vezes, queremos **acessar elementos individuais** da lista. \n",
    "\n",
    "Para fazer isso, devemos indicar qual é o **índice** respectivo ao elemento, isto é, qual é a **posição** do elemento dentro da lista\n",
    "\n",
    "Para acessar o elemento na **posição i** da lista \"minha_lista\", fazemos:\n",
    "\n",
    "```python\n",
    "minha_lista[i]\n",
    "```\n",
    "\n",
    "__MUITO IMPORTANTE: a numeração de índice começa em zero!__\n",
    "\n",
    "Ou seja:\n",
    "\n",
    "- O primeiro elemento tem índice 0: ```minha_lista[0]``` ,\n",
    "- O segundo tem índice 1: ```minha_lista[1]```,\n",
    "\n",
    "E assim por diante!\n",
    "\n",
    "Também podemos acessar os últimos elementos, usando índices negativos:\n",
    "\n",
    "- O último elemento tem índice -1: ```minha_lista[-1]```,\n",
    "- O penúltimo tem índice -2: ```minha_lista[-2]```,\n",
    "\n",
    "E assim por diante!"
   ]
  },
  {
   "cell_type": "code",
   "execution_count": 8,
   "metadata": {},
   "outputs": [],
   "source": [
    "minha_lista = [\"a\", \"b\", \"c\"]"
   ]
  },
  {
   "cell_type": "code",
   "execution_count": 9,
   "metadata": {},
   "outputs": [
    {
     "data": {
      "text/plain": [
       "'a'"
      ]
     },
     "execution_count": 9,
     "metadata": {},
     "output_type": "execute_result"
    }
   ],
   "source": [
    "minha_lista[0]"
   ]
  },
  {
   "cell_type": "code",
   "execution_count": 10,
   "metadata": {},
   "outputs": [
    {
     "data": {
      "text/plain": [
       "'c'"
      ]
     },
     "execution_count": 10,
     "metadata": {},
     "output_type": "execute_result"
    }
   ],
   "source": [
    "minha_lista[-1]"
   ]
  },
  {
   "cell_type": "code",
   "execution_count": 5,
   "metadata": {},
   "outputs": [],
   "source": [
    "minha_lista = [42, 73, 435]"
   ]
  },
  {
   "cell_type": "code",
   "execution_count": 7,
   "metadata": {},
   "outputs": [
    {
     "data": {
      "text/plain": [
       "73"
      ]
     },
     "execution_count": 7,
     "metadata": {},
     "output_type": "execute_result"
    }
   ],
   "source": [
    "minha_lista[-2]"
   ]
  },
  {
   "cell_type": "markdown",
   "metadata": {},
   "source": [
    "Também podemos **acessar pedaços da lista**, indicando o intervalo de índices que queremos, separados por \":\",  **com intervalo superior aberto**:\n",
    "\n",
    "- ```minha_lista[1:3]```: seleciona os elementos de indice 1 até indice 2\n",
    "- ```minha_lista[:4]```: seleciona do primeiro elemento até o de índice 3\n",
    "- ```minha_lista[3:]```: seleciona do elemento de índice 3 até o final\n",
    "- ```minha_lista[:]```: seleciona a lista inteira\n",
    "\n",
    "Este conceito é chamado de \"slicing\" em Python, pois você está pegando \"fatias\" da lista!"
   ]
  },
  {
   "cell_type": "code",
   "execution_count": 15,
   "metadata": {},
   "outputs": [
    {
     "name": "stdout",
     "output_type": "stream",
     "text": [
      "[[1, 3, 4, [3, 'oi', True]], 435, 73]\n"
     ]
    }
   ],
   "source": [
    "minha_lista = [\"a\", \"b\", \"c\", 42, 73, 435, [1, 3, 4, [3, \"oi\", True]]]\n",
    "print(minha_lista[:-4:-1])"
   ]
  },
  {
   "cell_type": "code",
   "execution_count": 14,
   "metadata": {},
   "outputs": [
    {
     "data": {
      "text/plain": [
       "['b', 'c', 42]"
      ]
     },
     "execution_count": 14,
     "metadata": {},
     "output_type": "execute_result"
    }
   ],
   "source": [
    "minha_lista[1:4]"
   ]
  },
  {
   "cell_type": "code",
   "execution_count": 15,
   "metadata": {},
   "outputs": [
    {
     "data": {
      "text/plain": [
       "['a', 'b', 'c', 42]"
      ]
     },
     "execution_count": 15,
     "metadata": {},
     "output_type": "execute_result"
    }
   ],
   "source": [
    "minha_lista[:4]"
   ]
  },
  {
   "cell_type": "code",
   "execution_count": 16,
   "metadata": {},
   "outputs": [
    {
     "data": {
      "text/plain": [
       "[42, 73, 435, [1, 3, 4, [3, 'oi', True]]]"
      ]
     },
     "execution_count": 16,
     "metadata": {},
     "output_type": "execute_result"
    }
   ],
   "source": [
    "minha_lista[-4:]"
   ]
  },
  {
   "cell_type": "code",
   "execution_count": 19,
   "metadata": {},
   "outputs": [
    {
     "data": {
      "text/plain": [
       "'oi'"
      ]
     },
     "execution_count": 19,
     "metadata": {},
     "output_type": "execute_result"
    }
   ],
   "source": [
    "minha_lista[-1][-1][1]"
   ]
  },
  {
   "cell_type": "code",
   "execution_count": 18,
   "metadata": {},
   "outputs": [
    {
     "data": {
      "text/plain": [
       "7"
      ]
     },
     "execution_count": 18,
     "metadata": {},
     "output_type": "execute_result"
    }
   ],
   "source": [
    "len(minha_lista)"
   ]
  },
  {
   "cell_type": "markdown",
   "metadata": {},
   "source": [
    "Podemos também fazer algumas **operações com listas**"
   ]
  },
  {
   "cell_type": "markdown",
   "metadata": {},
   "source": [
    "Soma de listas: ao **somar listas**, os elementos são **concatenados**, na ordem dada, para formar uma lista maior:"
   ]
  },
  {
   "cell_type": "code",
   "execution_count": 20,
   "metadata": {},
   "outputs": [
    {
     "data": {
      "text/plain": [
       "[1, 2, 3, 'a', 'b', 'c', 434]"
      ]
     },
     "execution_count": 20,
     "metadata": {},
     "output_type": "execute_result"
    }
   ],
   "source": [
    "lista1 = [1, 2, 3]\n",
    "lista2 = [\"a\", \"b\", \"c\", 434]\n",
    "\n",
    "lista1 + lista2"
   ]
  },
  {
   "cell_type": "markdown",
   "metadata": {},
   "source": [
    "Ao **multiplicar listas por um inteiro**, os elementos são repetidos, na ordem que aparecem:"
   ]
  },
  {
   "cell_type": "code",
   "execution_count": 21,
   "metadata": {},
   "outputs": [
    {
     "data": {
      "text/plain": [
       "[1, 2, 3, 1, 2, 3, 1, 2, 3]"
      ]
     },
     "execution_count": 21,
     "metadata": {},
     "output_type": "execute_result"
    }
   ],
   "source": [
    "lista1 * 3 # lista1 + lista1 + lista1"
   ]
  },
  {
   "cell_type": "markdown",
   "metadata": {},
   "source": [
    "Se quisermos somar os elementos de duas listas, ou multiplicá-los por algum número, temos que usar um **laço**, como veremos logo mais!"
   ]
  },
  {
   "cell_type": "markdown",
   "metadata": {},
   "source": [
    "É possível transformar strings em uma **lista de caracteres**:"
   ]
  },
  {
   "cell_type": "code",
   "execution_count": 16,
   "metadata": {},
   "outputs": [
    {
     "name": "stdout",
     "output_type": "stream",
     "text": [
      "<class 'list'> ['p', 'y', 't', 'h', 'o', 'n']\n",
      "<class 'str'> ['p', 'y', 't', 'h', 'o', 'n']\n"
     ]
    }
   ],
   "source": [
    "x = list(\"python\")\n",
    "print(type(x), x)\n",
    "y = str(x)\n",
    "print(type(y), y)\n"
   ]
  },
  {
   "cell_type": "markdown",
   "metadata": {},
   "source": [
    "__________\n",
    "__________\n",
    "__________"
   ]
  },
  {
   "cell_type": "markdown",
   "metadata": {},
   "source": [
    "## 2) Funções de listas"
   ]
  },
  {
   "cell_type": "markdown",
   "metadata": {},
   "source": [
    "Podemos começar com uma lista vazia, e preenchê-la aos poucos.\n",
    "\n",
    "Para **criar uma lista vazia**, fazemos:"
   ]
  },
  {
   "cell_type": "code",
   "execution_count": 17,
   "metadata": {},
   "outputs": [
    {
     "data": {
      "text/plain": [
       "[]"
      ]
     },
     "execution_count": 17,
     "metadata": {},
     "output_type": "execute_result"
    }
   ],
   "source": [
    "# tanto faz o list() ou o []\n",
    "# lista_vazia = list()\n",
    "\n",
    "lista_vazia = []\n",
    "\n",
    "lista_vazia"
   ]
  },
  {
   "cell_type": "markdown",
   "metadata": {},
   "source": [
    "Para adicionar um elemento **ao fim da lista**, usamos a função \"append()\".\n",
    "\n",
    "**OBS.: só podemos apendar um único elemento por vez!**"
   ]
  },
  {
   "cell_type": "code",
   "execution_count": 19,
   "metadata": {},
   "outputs": [
    {
     "name": "stdout",
     "output_type": "stream",
     "text": [
      "[1, 2, 3]\n",
      "[1, 2, 3, 4, '232', True]\n",
      "<class 'list'>\n"
     ]
    }
   ],
   "source": [
    "# lista inicial\n",
    "lista = [1, 2, 3]\n",
    "\n",
    "# print da lista antes do append\n",
    "print(lista)\n",
    "\n",
    "# append\n",
    "lista.append(4)\n",
    "lista.append(\"232\")\n",
    "lista.append(True)\n",
    "\n",
    "# print da lista após o append\n",
    "print(lista)\n",
    "print(type(lista))"
   ]
  },
  {
   "cell_type": "markdown",
   "metadata": {},
   "source": [
    "Se você quiser adicionar um elemento numa **posição específica**, use a função \"insert()\", onde o primeiro argumento é a posição, e o segundo é o elemento:\n",
    "\n",
    "**OBS.: só podemos inserir um único elemento por vez!**"
   ]
  },
  {
   "cell_type": "code",
   "execution_count": 27,
   "metadata": {},
   "outputs": [
    {
     "data": {
      "text/plain": [
       "[1, True, 2, 3]"
      ]
     },
     "execution_count": 27,
     "metadata": {},
     "output_type": "execute_result"
    }
   ],
   "source": [
    "# inserindo um elemento na posição inicial\n",
    "\n",
    "lista = [1, 2, 3]\n",
    "\n",
    "lista.insert(1, True)\n",
    "\n",
    "lista"
   ]
  },
  {
   "cell_type": "markdown",
   "metadata": {},
   "source": [
    "Podemos, também, **redefinir um elemento da lista individualmente**. Para isso, basta selecionarmos este elemento, e redefiní-lo:"
   ]
  },
  {
   "cell_type": "code",
   "execution_count": 28,
   "metadata": {},
   "outputs": [],
   "source": [
    "# redefinindo um elemento pela posicao\n",
    "lista = [1, 2, 3]\n",
    "\n",
    "lista[1] = \"b\""
   ]
  },
  {
   "cell_type": "code",
   "execution_count": 29,
   "metadata": {},
   "outputs": [
    {
     "data": {
      "text/plain": [
       "[1, 'b', 3]"
      ]
     },
     "execution_count": 29,
     "metadata": {},
     "output_type": "execute_result"
    }
   ],
   "source": [
    "lista"
   ]
  },
  {
   "cell_type": "code",
   "execution_count": 30,
   "metadata": {},
   "outputs": [],
   "source": [
    "lista[-1] = \"qualquer coisa\""
   ]
  },
  {
   "cell_type": "code",
   "execution_count": 31,
   "metadata": {},
   "outputs": [
    {
     "data": {
      "text/plain": [
       "[1, 'b', 'qualquer coisa']"
      ]
     },
     "execution_count": 31,
     "metadata": {},
     "output_type": "execute_result"
    }
   ],
   "source": [
    "lista"
   ]
  },
  {
   "cell_type": "code",
   "execution_count": 32,
   "metadata": {},
   "outputs": [
    {
     "data": {
      "text/plain": [
       "['oi', False, 3, 2, 3.14]"
      ]
     },
     "execution_count": 32,
     "metadata": {},
     "output_type": "execute_result"
    }
   ],
   "source": [
    "lista1 = ['oi', False, 3]\n",
    "lista2 = [2, 3.14]\n",
    "\n",
    "lista1.extend(lista2)\n",
    "lista1"
   ]
  },
  {
   "cell_type": "code",
   "execution_count": 33,
   "metadata": {},
   "outputs": [
    {
     "name": "stdout",
     "output_type": "stream",
     "text": [
      "277 ns ± 13.9 ns per loop (mean ± std. dev. of 7 runs, 1000000 loops each)\n"
     ]
    }
   ],
   "source": [
    "%%timeit\n",
    "lista1 = ['oi', False, 3]\n",
    "lista2 = [2, 3.14]\n",
    "lista1.extend(lista2)"
   ]
  },
  {
   "cell_type": "code",
   "execution_count": 34,
   "metadata": {},
   "outputs": [
    {
     "name": "stdout",
     "output_type": "stream",
     "text": [
      "254 ns ± 29 ns per loop (mean ± std. dev. of 7 runs, 1000000 loops each)\n"
     ]
    }
   ],
   "source": [
    "%%timeit\n",
    "lista1 = ['oi', False, 3]\n",
    "lista2 = [2, 3.14]\n",
    "lista1+lista2"
   ]
  },
  {
   "cell_type": "markdown",
   "metadata": {},
   "source": [
    "Para passar uma lista inteira para outra, não podemos apenas atribuir com o =, pois assim a nova lista fará uma referencia a lista antiga, e, portanto, as mudaças feitas em uma afetarão a outra. Então devemos a usar a função **copy()**"
   ]
  },
  {
   "cell_type": "code",
   "execution_count": 35,
   "metadata": {},
   "outputs": [
    {
     "name": "stdout",
     "output_type": "stream",
     "text": [
      "[1, 2, 3]\n",
      "[1, 2, 3]\n",
      "[1, 'b', 3]\n",
      "[1, 'b', 3]\n",
      "82728832\n",
      "82728832\n"
     ]
    }
   ],
   "source": [
    "lista1 = [1, 2, 3]\n",
    "lista2 = lista1\n",
    "print(lista1)\n",
    "print(lista2)\n",
    "lista2[1] = \"b\"\n",
    "print(lista1)\n",
    "print(lista2)\n",
    "\n",
    "print(id(lista1))\n",
    "print(id(lista2))"
   ]
  },
  {
   "cell_type": "code",
   "execution_count": 36,
   "metadata": {},
   "outputs": [
    {
     "name": "stdout",
     "output_type": "stream",
     "text": [
      "[1, 2, 3]\n",
      "[1, 2, 3]\n",
      "[1, 2, 3]\n",
      "[1, 'b', 3]\n",
      "82690816\n",
      "82790528\n"
     ]
    }
   ],
   "source": [
    "lista1 = [1, 2, 3]\n",
    "lista2 = lista1.copy()\n",
    "print(lista1)\n",
    "print(lista2)\n",
    "lista2[1] = \"b\"\n",
    "print(lista1)\n",
    "print(lista2)\n",
    "\n",
    "print(id(lista1))\n",
    "print(id(lista2))"
   ]
  },
  {
   "cell_type": "markdown",
   "metadata": {},
   "source": [
    "Para **remover um elemento da lista**, use a função \"remove()\". \n",
    "\n",
    "**OBS.: Essa função remove apenas a primeira aparição do elemento**"
   ]
  },
  {
   "cell_type": "code",
   "execution_count": 29,
   "metadata": {},
   "outputs": [
    {
     "name": "stdout",
     "output_type": "stream",
     "text": [
      "['a', 'c', 42, 73, 435, [1, 3, 4, [3, 'oi', True]]]\n"
     ]
    }
   ],
   "source": [
    "# removendo um elemento\n",
    "lista = [\"a\", \"b\", \"c\", \"b\", 42, 73, 435, [1, 3, 4, [3, \"oi\", True]]]\n",
    "# lista = [\"a\", \"c\", 42, 73, 435, [1, 3, 4, [3, \"oi\", True]]]\n",
    "while 'b' in lista:\n",
    "    lista.remove(\"b\")\n",
    "\n",
    "print(lista)\n"
   ]
  },
  {
   "cell_type": "markdown",
   "metadata": {},
   "source": [
    "Se você quiser remover um elemento de determinado índice, use a função \"pop()\":"
   ]
  },
  {
   "cell_type": "code",
   "execution_count": 38,
   "metadata": {},
   "outputs": [
    {
     "name": "stdout",
     "output_type": "stream",
     "text": [
      "c\n",
      "['a', 42, 73, 435, [1, 3, 4, [3, 'oi', True]]]\n"
     ]
    }
   ],
   "source": [
    "# removendo elemento pelo indice\n",
    "lista = [\"a\", \"c\", 42, 73, 435, [1, 3, 4, [3, \"oi\", True]]]\n",
    "valorRetirado = lista.pop(1)\n",
    "print(valorRetirado)\n",
    "print(lista)"
   ]
  },
  {
   "cell_type": "code",
   "execution_count": 20,
   "metadata": {},
   "outputs": [
    {
     "name": "stdout",
     "output_type": "stream",
     "text": [
      "['abacate', 'a', 'b', 42, True]\n",
      "['abacate', 'a', 'b', True]\n",
      "['a', 'b', True]\n",
      "['a', 'b']\n",
      "True\n",
      "['a']\n"
     ]
    }
   ],
   "source": [
    "lista = [\"abacate\", \"a\", \"b\", 42, True]\n",
    "\n",
    "print(lista)\n",
    "\n",
    "lista.remove(42)\n",
    "\n",
    "print(lista)\n",
    "\n",
    "lista.pop(0)\n",
    "\n",
    "print(lista)\n",
    "\n",
    "valorRetirado = lista.pop()\n",
    "\n",
    "print(lista)\n",
    "print(valorRetirado)\n",
    "\n",
    "lista.pop()\n",
    "\n",
    "print(lista)"
   ]
  },
  {
   "cell_type": "markdown",
   "metadata": {},
   "source": [
    "Muitas vezes é interessante **ordenar a lista**. Pra fazer isso, usamos a função \"sorted\".\n",
    "\n",
    "**OBS: essa função só funciona para listas com o mesmo tipo de dado!**"
   ]
  },
  {
   "cell_type": "code",
   "execution_count": 41,
   "metadata": {},
   "outputs": [],
   "source": [
    "lista = [34, 2, 1, 8, -34]"
   ]
  },
  {
   "cell_type": "code",
   "execution_count": 42,
   "metadata": {},
   "outputs": [
    {
     "name": "stdout",
     "output_type": "stream",
     "text": [
      "[-34, 1, 2, 8, 34]\n"
     ]
    }
   ],
   "source": [
    "lista_ordenada = sorted(lista)\n",
    "print(lista_ordenada)"
   ]
  },
  {
   "cell_type": "code",
   "execution_count": 43,
   "metadata": {},
   "outputs": [
    {
     "name": "stdout",
     "output_type": "stream",
     "text": [
      "[34, 2, 1, 8, -34]\n"
     ]
    }
   ],
   "source": [
    "print(lista)"
   ]
  },
  {
   "cell_type": "code",
   "execution_count": 46,
   "metadata": {},
   "outputs": [
    {
     "name": "stdout",
     "output_type": "stream",
     "text": [
      "['998', 'Pera', 'abacate', 'laranja']\n",
      "['abacate', 'Pera', 'laranja', '998']\n"
     ]
    }
   ],
   "source": [
    "# ordenando lista de strings: por ordem alfabética, segundo a tabela ascii\n",
    "lista_strings = [\"abacate\", \"Pera\", \"laranja\", \"998\"]\n",
    "\n",
    "print(sorted(lista_strings))\n",
    "print(lista_strings)"
   ]
  },
  {
   "cell_type": "code",
   "execution_count": 47,
   "metadata": {},
   "outputs": [
    {
     "data": {
      "text/plain": [
       "['998', 'Pera', 'abacate', 'laranja']"
      ]
     },
     "execution_count": 47,
     "metadata": {},
     "output_type": "execute_result"
    }
   ],
   "source": [
    "lista_strings.sort()\n",
    "lista_strings"
   ]
  },
  {
   "cell_type": "markdown",
   "metadata": {},
   "source": [
    "Para **inverter a ordem dos elementos**, use a função **reverse()**"
   ]
  },
  {
   "cell_type": "code",
   "execution_count": 48,
   "metadata": {},
   "outputs": [
    {
     "data": {
      "text/plain": [
       "[-34, 8, 5, 2, 34]"
      ]
     },
     "execution_count": 48,
     "metadata": {},
     "output_type": "execute_result"
    }
   ],
   "source": [
    "lista = [34, 2, 5, 8, -34]\n",
    "\n",
    "# essa é a forma de inverter a lista\n",
    "lista.reverse()\n",
    "\n",
    "lista"
   ]
  },
  {
   "cell_type": "markdown",
   "metadata": {},
   "source": [
    "Para ordenar uma lista na ordem inversa (maior pro menor), podemos adicionar o parâmetro a seguir:"
   ]
  },
  {
   "cell_type": "code",
   "execution_count": 49,
   "metadata": {},
   "outputs": [
    {
     "data": {
      "text/plain": [
       "[34, 8, 5, 2, -34]"
      ]
     },
     "execution_count": 49,
     "metadata": {},
     "output_type": "execute_result"
    }
   ],
   "source": [
    "# inverte a ordem\n",
    "\n",
    "sorted(lista, reverse=True)"
   ]
  },
  {
   "cell_type": "code",
   "execution_count": 50,
   "metadata": {},
   "outputs": [
    {
     "data": {
      "text/plain": [
       "[34, 8, 5, 2, -34]"
      ]
     },
     "execution_count": 50,
     "metadata": {},
     "output_type": "execute_result"
    }
   ],
   "source": [
    "lista.sort(reverse=True)\n",
    "lista"
   ]
  },
  {
   "cell_type": "markdown",
   "metadata": {},
   "source": [
    "Se quisermos saber **qual é a posição (índice) de determinado elemento**, usamos o método \".index()\".\n",
    "\n",
    "Este método retorna apenas a **primeira aparição** do elemento:"
   ]
  },
  {
   "cell_type": "code",
   "execution_count": 31,
   "metadata": {},
   "outputs": [
    {
     "name": "stdout",
     "output_type": "stream",
     "text": [
      "3\n"
     ]
    }
   ],
   "source": [
    "lista = [34, 2, 5, 8, 8, 8, -34]\n",
    "\n",
    "print(lista.index(8))"
   ]
  },
  {
   "cell_type": "code",
   "execution_count": 26,
   "metadata": {},
   "outputs": [
    {
     "name": "stdout",
     "output_type": "stream",
     "text": [
      "4\n"
     ]
    }
   ],
   "source": [
    "lista = [34, 2, 5, 88, 8, 98, -34]\n",
    "\n",
    "valor = 8\n",
    "if valor in lista:\n",
    "    print(lista.index(valor))\n",
    "else:\n",
    "    print(\"Valor não existe na lista\")"
   ]
  },
  {
   "cell_type": "markdown",
   "metadata": {},
   "source": [
    "Por fim, podemos encontrar algumas **propriedades dos elementos da lista:**"
   ]
  },
  {
   "cell_type": "code",
   "execution_count": 55,
   "metadata": {},
   "outputs": [],
   "source": [
    "lista = [34, 2, 5, 8, 8, 8, -37]"
   ]
  },
  {
   "cell_type": "markdown",
   "metadata": {},
   "source": [
    "Para encontrar o maior elemento, use \"max()\":"
   ]
  },
  {
   "cell_type": "code",
   "execution_count": 56,
   "metadata": {},
   "outputs": [
    {
     "data": {
      "text/plain": [
       "34"
      ]
     },
     "execution_count": 56,
     "metadata": {},
     "output_type": "execute_result"
    }
   ],
   "source": [
    "max(lista)"
   ]
  },
  {
   "cell_type": "markdown",
   "metadata": {},
   "source": [
    "Para encontrar o menor elemento, use \"min()\":"
   ]
  },
  {
   "cell_type": "code",
   "execution_count": 57,
   "metadata": {},
   "outputs": [
    {
     "data": {
      "text/plain": [
       "-37"
      ]
     },
     "execution_count": 57,
     "metadata": {},
     "output_type": "execute_result"
    }
   ],
   "source": [
    "min(lista)"
   ]
  },
  {
   "cell_type": "markdown",
   "metadata": {},
   "source": [
    "Para encontrar o número de elementos (ou seja, qual é o \"tamanho\" da lista), use \"len()\":"
   ]
  },
  {
   "cell_type": "code",
   "execution_count": 58,
   "metadata": {},
   "outputs": [
    {
     "data": {
      "text/plain": [
       "7"
      ]
     },
     "execution_count": 58,
     "metadata": {},
     "output_type": "execute_result"
    }
   ],
   "source": [
    "len(lista)"
   ]
  },
  {
   "cell_type": "code",
   "execution_count": 59,
   "metadata": {},
   "outputs": [
    {
     "data": {
      "text/plain": [
       "7"
      ]
     },
     "execution_count": 59,
     "metadata": {},
     "output_type": "execute_result"
    }
   ],
   "source": [
    "len(\"abacaxi\")"
   ]
  },
  {
   "cell_type": "markdown",
   "metadata": {},
   "source": [
    "Para somar os elementos da lista, use \"sum()\":"
   ]
  },
  {
   "cell_type": "code",
   "execution_count": 60,
   "metadata": {},
   "outputs": [
    {
     "data": {
      "text/plain": [
       "28"
      ]
     },
     "execution_count": 60,
     "metadata": {},
     "output_type": "execute_result"
    }
   ],
   "source": [
    "sum(lista)"
   ]
  },
  {
   "cell_type": "markdown",
   "metadata": {},
   "source": [
    "Agora fica bem fácil encontrar a média dos números em uma lista:"
   ]
  },
  {
   "cell_type": "code",
   "execution_count": 61,
   "metadata": {},
   "outputs": [
    {
     "name": "stdout",
     "output_type": "stream",
     "text": [
      "8.8\n"
     ]
    }
   ],
   "source": [
    "notas = [9, 8, 7, 7.6, 10, 10, 10]\n",
    "\n",
    "media = sum(notas)/len(notas)\n",
    "\n",
    "print(media)"
   ]
  },
  {
   "cell_type": "markdown",
   "metadata": {},
   "source": [
    "__Um exemplo para o cálculo de média dos valores em uma lista...__\n",
    "\n",
    "Mas fazemos o usuário digitar os elementos da lista, um a um!"
   ]
  },
  {
   "cell_type": "code",
   "execution_count": 62,
   "metadata": {},
   "outputs": [
    {
     "name": "stdout",
     "output_type": "stream",
     "text": [
      "Quantas notas você deseja calcular a média? 5\n",
      "Qual a nota? 10\n",
      "Qual a nota? 5\n",
      "Qual a nota? 7\n",
      "Qual a nota? 8\n",
      "Qual a nota? 9\n",
      "Media: 7.8\n"
     ]
    }
   ],
   "source": [
    "qntdNotas = int(input(\"Quantas notas você deseja calcular a média? \"))\n",
    "\n",
    "while qntdNotas <= 0:\n",
    "    print(\"Quantidade de notas inválida!\")\n",
    "    qntdNotas = int(input(\"Quantas notas você deseja calcular a média? \"))\n",
    "\n",
    "notas = []\n",
    "\n",
    "cont = 0\n",
    "while cont < qntdNotas:\n",
    "    notas.append(float(input(\"Qual a nota? \")))\n",
    "    cont += 1\n",
    "\n",
    "media = sum(notas)/len(notas)\n",
    "    \n",
    "print(\"Media:\", media)"
   ]
  },
  {
   "cell_type": "markdown",
   "metadata": {},
   "source": [
    "## Exercícios\n",
    "\n",
    "Dada uma lista encadeada de caracteres formada por uma seqüência alternada de\n",
    "letras e dígitos, construa um método que retorne uma lista na qual as letras são mantidas\n",
    "na seqüência original e os dígitos são colocados na ordem inversa. Exemplos:\n",
    "\n",
    "\n",
    "A 1 E 5 T 7 W 8 G<br>\n",
    "®: A E T W G 8 7 5 1\n",
    "\n",
    "3 C 9 H 4 Q 6<br>\n",
    "®: C H Q 6 4 9 3\n",
    "\n",
    "\n",
    "Como mostram os exemplos, as letras devem ser mostradas primeiro, seguidas dos\n",
    "dígitos. Sugestão:\n",
    "- usar método isdigit() que retorna booleano que retorna verdadeiro caso um\n",
    "caractere seja um dígito. https://www.w3schools.com/python/ref_string_isdigit.asp\n"
   ]
  },
  {
   "cell_type": "code",
   "execution_count": null,
   "metadata": {},
   "outputs": [],
   "source": [
    "\"1\".isdigit()"
   ]
  },
  {
   "cell_type": "code",
   "execution_count": 32,
   "metadata": {},
   "outputs": [
    {
     "name": "stdout",
     "output_type": "stream",
     "text": [
      "['A', 'E', 'T', 'W', 'G', '8', '7', '5', '1']\n"
     ]
    }
   ],
   "source": [
    "lista = \"A1E5T7W8G\"\n",
    "cont = 0\n",
    "letras = []\n",
    "numeros = []\n",
    "while cont < len(lista):\n",
    "   \n",
    "   if lista[cont].isdigit():\n",
    "      numeros.insert(0, lista[cont])\n",
    "   else:\n",
    "      letras.append(lista[cont]) \n",
    "   cont += 1\n",
    "\n",
    "print(letras + numeros)\n"
   ]
  },
  {
   "cell_type": "markdown",
   "metadata": {},
   "source": [
    "Faça um algoritmo que recebe uma lista encadeada de números inteiros e retorna uma lista sem repetições, ou seja, uma lista onde cada número apareça apenas uma\n",
    "vez. Exemplo:\n",
    "\n",
    "12, 5, -7, 8, 5, 9, 12, 1, 8 <br>\n",
    "®: 12, 5, -7, 8, 9, 1\n"
   ]
  },
  {
   "cell_type": "code",
   "execution_count": 46,
   "metadata": {},
   "outputs": [
    {
     "name": "stdout",
     "output_type": "stream",
     "text": [
      "[12, 5, -7, 8, 9, 1, 3]\n",
      "[-7, 1, 3, 5, 8, 9, 12]\n",
      "<class 'list'>\n"
     ]
    }
   ],
   "source": [
    "lista = [12, 5, -7, 8, 5, 9, 12, 1, 8, 3]\n",
    "\n",
    "cont = 0\n",
    "saida = []\n",
    "while cont < len(lista):\n",
    "\n",
    "    if not lista[cont] in saida:\n",
    "        saida.append(lista[cont])\n",
    "    \n",
    "    cont += 1\n",
    "    \n",
    "\n",
    "print(saida)\n",
    "print(sorted(saida))\n",
    "print(type(saida))\n"
   ]
  },
  {
   "cell_type": "code",
   "execution_count": 3,
   "metadata": {},
   "outputs": [
    {
     "name": "stdout",
     "output_type": "stream",
     "text": [
      "True\n"
     ]
    }
   ],
   "source": [
    "print(type(1) == int)\n"
   ]
  },
  {
   "cell_type": "markdown",
   "metadata": {},
   "source": [
    "Faça um programa que peça ao usuáio para digitar um número n (inteiro e positivo) e imprima todos os números de 0 até n-1"
   ]
  },
  {
   "cell_type": "code",
   "execution_count": 47,
   "metadata": {},
   "outputs": [
    {
     "name": "stdout",
     "output_type": "stream",
     "text": [
      "Digite um numero: 5\n",
      "0\n",
      "1\n",
      "2\n",
      "3\n",
      "4\n"
     ]
    }
   ],
   "source": [
    "n = int(input(\"Digite um numero: \"))\n",
    "cont = 0\n",
    "while cont < n:\n",
    "   print(cont)\n",
    "   cont += 1"
   ]
  },
  {
   "cell_type": "markdown",
   "metadata": {},
   "source": [
    "Faça um programa que escreva todos os números múltiplos de 7 entre 1 e N, sendo N um valor positivo e inteiro introduzido pelo utilizador. Por exemplo: se N = 40, o programa deve imprimir: 7"
   ]
  },
  {
   "cell_type": "code",
   "execution_count": 48,
   "metadata": {},
   "outputs": [
    {
     "name": "stdout",
     "output_type": "stream",
     "text": [
      "Digite um numero: 40\n",
      "7\n",
      "14\n",
      "21\n",
      "28\n",
      "35\n"
     ]
    }
   ],
   "source": [
    "n = int(input(\"Digite um numero: \"))\n",
    "cont = 1\n",
    "while cont < n:\n",
    "   if cont % 7 == 0:   \n",
    "      print(cont)\n",
    "   cont += 1"
   ]
  },
  {
   "cell_type": "markdown",
   "metadata": {},
   "source": [
    "Faça um algoritmo que pergunte ao usuário quantos números ele quer somar e que peça pra ele inserir os N números. O programa deve informar a soma total dos números informados."
   ]
  },
  {
   "cell_type": "code",
   "execution_count": 50,
   "metadata": {},
   "outputs": [
    {
     "name": "stdout",
     "output_type": "stream",
     "text": [
      "Quantos numero para somar: 2\n",
      "Digite um numero: 5\n",
      "Digite um numero: 6\n",
      "11\n"
     ]
    }
   ],
   "source": [
    "n = int(input(\"Quantos numero para somar: \"))\n",
    "\n",
    "cont = 1\n",
    "soma = 0\n",
    "while cont < n+1:\n",
    "   soma += int(input(\"Digite um numero: \"))\n",
    "   cont += 1\n",
    "\n",
    "print(soma)    "
   ]
  },
  {
   "cell_type": "code",
   "execution_count": 51,
   "metadata": {},
   "outputs": [
    {
     "name": "stdout",
     "output_type": "stream",
     "text": [
      "Digite um numero: 3\n",
      "Digite um numero: 1\n",
      "Digite um numero: 2\n",
      "Digite um numero: 3\n",
      "Digite um numero: 4\n",
      "[3, 1, 2, 3, 4]\n"
     ]
    }
   ],
   "source": [
    "n = 5 \n",
    "cont = 1\n",
    "texto = []\n",
    "while cont < n+1:\n",
    "   texto.append(int(input(\"Digite um numero: \")))\n",
    "   cont += 1\n",
    "\n",
    "print(texto)    "
   ]
  },
  {
   "cell_type": "code",
   "execution_count": null,
   "metadata": {},
   "outputs": [],
   "source": [
    "Faça um programa que imprima o maior número da lista sem usar a função max()"
   ]
  },
  {
   "cell_type": "code",
   "execution_count": 10,
   "metadata": {},
   "outputs": [
    {
     "name": "stdout",
     "output_type": "stream",
     "text": [
      "34\n",
      "34\n"
     ]
    }
   ],
   "source": [
    "lista = [34, 2, 5, 8, 8, 8, -37]\n",
    "lista_ordenada = sorted(lista)\n",
    "\n",
    "lista.sort(reverse=True)\n",
    "print(lista[0])\n",
    "print(lista_ordenada[-1])\n"
   ]
  },
  {
   "cell_type": "code",
   "execution_count": null,
   "metadata": {},
   "outputs": [],
   "source": [
    "Faça um programa que peça para o usuário digitar o nome de um aluno, a idade dele e o número de provas que esse aluno fez.\n",
    "\n",
    "Depois disso o programa deve pedir para o usuário digitar as notas de cada prova do aluno.\n",
    "\n",
    "Ao final o programa deve imprimir uma lista contendo:\n",
    "\n",
    "a. Nome do aluno na posição 0\n",
    "\n",
    "b. Idade do aluno na posição 1\n",
    "\n",
    "c. Uma lista com todas as notas na posição 2\n",
    "\n",
    "d. A média do aluno na posição 3\n",
    "\n",
    "e. True ou False, caso a média seja maior que 5 ou não, na posição 4"
   ]
  },
  {
   "cell_type": "code",
   "execution_count": 84,
   "metadata": {},
   "outputs": [
    {
     "name": "stdout",
     "output_type": "stream",
     "text": [
      "Aluno: Maia\n",
      "Idade: 58\n",
      "Provas: 3\n",
      "Digite 1º nota: 7\n",
      "Digite 2º nota: 5\n",
      "Digite 3º nota: 10\n",
      "['Maia', 58, [7, 5, 10], 7.333333333333333, True]\n"
     ]
    }
   ],
   "source": [
    "aluno = input(\"Aluno: \")\n",
    "idade = int(input(\"Idade: \"))\n",
    "prova = int(input(\"Provas: \"))\n",
    "\n",
    "cont = 1\n",
    "notas = []\n",
    "\n",
    "notas.append(aluno)\n",
    "notas.append(idade)\n",
    "\n",
    "provas =[]\n",
    "while cont < prova+1: \n",
    "    provas.append(int(input(f\"Digite {cont}º nota: \" )))\n",
    "    cont +=1\n",
    "\n",
    "notas.append(provas) \n",
    "media = sum(provas)/len(provas)\n",
    "notas.append(media)\n",
    "notas.append(media>5)\n",
    "print(notas)    \n"
   ]
  },
  {
   "cell_type": "code",
   "execution_count": null,
   "metadata": {},
   "outputs": [],
   "source": []
  }
 ],
 "metadata": {
  "kernelspec": {
   "display_name": "Python 3 (ipykernel)",
   "language": "python",
   "name": "python3"
  },
  "language_info": {
   "codemirror_mode": {
    "name": "ipython",
    "version": 3
   },
   "file_extension": ".py",
   "mimetype": "text/x-python",
   "name": "python",
   "nbconvert_exporter": "python",
   "pygments_lexer": "ipython3",
   "version": "3.8.9"
  }
 },
 "nbformat": 4,
 "nbformat_minor": 4
}
