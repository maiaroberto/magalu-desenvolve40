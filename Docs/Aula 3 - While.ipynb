{
 "cells": [
  {
   "cell_type": "markdown",
   "metadata": {},
   "source": [
    "# Aula 3 - Loop While\n",
    "\n",
    "Na aula de hoje, vamos explorar o seguinte tópico em Python:\n",
    "\n",
    "- 1) Laços de repetição (while).\n",
    "\n",
    "_______\n",
    "\n",
    "### Objetivos\n",
    "\n",
    "Laço de repetição while, frisando aqui a necessidade de atualização da condição para evitar loops infinitos. Nesta aula, será mostrado como os operadores lógicos são utilizados nas novas estruturas apresentadas. "
   ]
  },
  {
   "cell_type": "markdown",
   "metadata": {},
   "source": [
    "____\n",
    "____\n",
    "____"
   ]
  },
  {
   "cell_type": "markdown",
   "metadata": {},
   "source": [
    "## 3) Laços de repetição (while)\n",
    "\n",
    "Uma das utilidades de linguagens de programação é a de automatizar tarefas que são repetitivas.\n",
    "\n",
    "Mas, pra isso ser viável, seria bom se tivéssemos uma estrutura para **repetir comandos**, não é mesmo?\n",
    "\n",
    "Imagine que eu queira exibir na tela \"Olá, mundo!\" 5 vezes. Podemos fazer:"
   ]
  },
  {
   "cell_type": "code",
   "execution_count": 6,
   "metadata": {},
   "outputs": [
    {
     "name": "stdout",
     "output_type": "stream",
     "text": [
      "Olá, mundo!\n",
      "Olá, mundo!\n",
      "Olá, mundo!\n",
      "Olá, mundo!\n",
      "Olá, mundo!\n"
     ]
    }
   ],
   "source": [
    "print(\"Olá, mundo!\")\n",
    "print(\"Olá, mundo!\")\n",
    "print(\"Olá, mundo!\")\n",
    "print(\"Olá, mundo!\")\n",
    "print(\"Olá, mundo!\")"
   ]
  },
  {
   "cell_type": "code",
   "execution_count": 7,
   "metadata": {},
   "outputs": [
    {
     "name": "stdout",
     "output_type": "stream",
     "text": [
      "Olá, mundo!\n",
      "Olá, mundo!\n",
      "Olá, mundo!\n",
      "Olá, mundo!\n",
      "Olá, mundo!\n",
      "fim\n"
     ]
    }
   ],
   "source": [
    "contador = 0\n",
    "while contador < 5:\n",
    "    print('Olá, mundo!')\n",
    "    contador += 1\n",
    "print(\"fim\")"
   ]
  },
  {
   "cell_type": "markdown",
   "metadata": {},
   "source": [
    "Mas, e se eu quiser exibir essa mensagem 1000 vezes? Ou 1 milhão de vezes? Não é ideal escrevermos o mesmo pedaço de código tantas vezes, né?\n",
    "\n",
    "Para isso, existem os **laços de repetição**, que permitem repetir pedaços de código quantas vezes desejarmos!\n",
    "\n",
    "O primeiro laço que vamos ver é o **while**. Este laço tem a seguinte estrutura:\n",
    "\n",
    "```python\n",
    "while (condicao é True):\n",
    "    operacao_repetida\n",
    "```\n",
    "\n",
    "Ou seja, o que tá no bloco do while é repetido **enquanto a condição for verdadeira**"
   ]
  },
  {
   "cell_type": "markdown",
   "metadata": {},
   "source": [
    "Isso pode levar a **loops infinitos**"
   ]
  },
  {
   "cell_type": "code",
   "execution_count": null,
   "metadata": {},
   "outputs": [],
   "source": [
    "while 2==2:\n",
    "    print(\"Olá, mundo\")"
   ]
  },
  {
   "cell_type": "markdown",
   "metadata": {},
   "source": [
    "Para que loops infinitos não aconteçam, temos que fazer uma **atualização da condição** a cada iteração do laço!\n",
    "\n",
    "Isso é, temos que **atualizar** a variavel que contabiliza as repetições no loop"
   ]
  },
  {
   "cell_type": "code",
   "execution_count": null,
   "metadata": {},
   "outputs": [],
   "source": [
    "# vamos definir uma variável\n",
    "# \"x recebe o valor'aa' 2\"\n",
    "\n",
    "x = 2\n",
    "\n",
    "# podemos redefinir a variável em termos do valor anterior dela\n",
    "# \"x recebe o valor que tinha ANTES na variável, + 3\"\n",
    "x = x + 3\n",
    "\n",
    "# chamando a variável\n",
    "x"
   ]
  },
  {
   "cell_type": "markdown",
   "metadata": {},
   "source": [
    "Assim, o que fazemos é **definir a condição do while em termos de uma variável que tenha seu valor atualizado!**\n",
    "\n",
    "Para isso, é comum nos referirmos à variàvel da condição como **variável contadora**.\n",
    "\n",
    "Para atualizar a variável contadora dentro do while, em geral a atualizamos em +1"
   ]
  },
  {
   "cell_type": "code",
   "execution_count": 12,
   "metadata": {},
   "outputs": [
    {
     "name": "stdout",
     "output_type": "stream",
     "text": [
      "Olá mundo\n",
      "1\n",
      "True\n",
      "Olá mundo\n",
      "2\n",
      "True\n",
      "Olá mundo\n",
      "3\n",
      "True\n",
      "Olá mundo\n",
      "4\n",
      "True\n",
      "Olá mundo\n",
      "5\n",
      "False\n"
     ]
    }
   ],
   "source": [
    "cont = 0\n",
    "\n",
    "while cont < 5:\n",
    "    print(\"Olá mundo\")\n",
    "    cont += 1\n",
    "    print(cont)\n",
    "    print(cont < 5)"
   ]
  },
  {
   "cell_type": "markdown",
   "metadata": {},
   "source": [
    "Vamos entender um pouco melhor como a variável contadora se comporta?\n",
    "\n",
    "Pra isso, basta exibi-la a cada iteração:"
   ]
  },
  {
   "cell_type": "code",
   "execution_count": 13,
   "metadata": {},
   "outputs": [
    {
     "name": "stdout",
     "output_type": "stream",
     "text": [
      "0\n",
      "1\n",
      "2\n",
      "3\n",
      "4\n"
     ]
    }
   ],
   "source": [
    "cont = 0\n",
    "\n",
    "while cont < 5:\n",
    "    \n",
    "    print(cont)\n",
    "    \n",
    "    # cont += 1\n",
    "    cont = cont + 1"
   ]
  },
  {
   "cell_type": "markdown",
   "metadata": {},
   "source": [
    "O código acima equivale a:"
   ]
  },
  {
   "cell_type": "code",
   "execution_count": 14,
   "metadata": {},
   "outputs": [
    {
     "name": "stdout",
     "output_type": "stream",
     "text": [
      "0\n",
      "1\n",
      "2\n",
      "3\n",
      "4\n"
     ]
    }
   ],
   "source": [
    "# inicialmente, a variavel cont vale 0\n",
    "cont = 0\n",
    "print(cont)\n",
    "\n",
    "# pegamos o valor anterior (0) e somamos 1, ficando 1\n",
    "cont = cont + 1\n",
    "print(cont)\n",
    "\n",
    "# pegamos o valor anterior (1) e somamos 1, ficando 2\n",
    "cont = cont + 1\n",
    "print(cont)\n",
    "\n",
    "# pegamos o valor anterior (2) e somamos 1, ficando 3\n",
    "cont = cont + 1\n",
    "print(cont)\n",
    "\n",
    "# pegamos o valor anterior (3) e somamos 1, ficando 4\n",
    "cont = cont + 1\n",
    "print(cont)"
   ]
  },
  {
   "cell_type": "markdown",
   "metadata": {},
   "source": [
    "Usar a condição com < ao invés de != em geral garante maior segurança ao seu algoritmo, pois evita imprevistos caso você receba números do usuário!"
   ]
  },
  {
   "cell_type": "markdown",
   "metadata": {},
   "source": [
    "Podemos também atualizar a condição de repetição segundo informado pelo usuário\n",
    "\n",
    "Esse uso é bem importante para **garantir que o usuário digitou corretamente o que foi solicitado**\n",
    "\n",
    "Por exemplo, vamos pedir pro usuário digitar um número maior que 10. **Enquanto ele não fizer o que queremos**, vamos continuar pedindo pra ele digitar um novo valor:"
   ]
  },
  {
   "cell_type": "code",
   "execution_count": 15,
   "metadata": {},
   "outputs": [
    {
     "name": "stdout",
     "output_type": "stream",
     "text": [
      "Digite um numero maior que 10: 2\n",
      "Digite um numero maior que 10: 5\n",
      "Digite um numero maior que 10: -1\n",
      "Digite um numero maior que 10: 0\n",
      "Digite um numero maior que 10: 10\n",
      "Digite um numero maior que 10: 11\n",
      "O numero digitado foi:  11\n"
     ]
    }
   ],
   "source": [
    "numero = 0\n",
    "\n",
    "while numero <= 10:\n",
    "    numero = int(input(\"Digite um numero maior que 10: \"))\n",
    "    \n",
    "print(\"O numero digitado foi: \", numero)"
   ]
  },
  {
   "cell_type": "markdown",
   "metadata": {},
   "source": [
    "Outro exemplo, onde pedirmos pro usuário digitar sua nota (para ser um valor válido, tem que estar entre 0 e 10!)"
   ]
  },
  {
   "cell_type": "code",
   "execution_count": 16,
   "metadata": {},
   "outputs": [
    {
     "name": "stdout",
     "output_type": "stream",
     "text": [
      "Digite um número de 0 a 10: -2\n",
      "Digite um número de 0 a 10: 11\n",
      "Digite um número de 0 a 10: 8\n",
      "Nota:  8\n"
     ]
    }
   ],
   "source": [
    "nota = -1\n",
    "\n",
    "while not(0 <= nota <= 10):\n",
    "    nota = int(input(\"Digite um número de 0 a 10: \"))\n",
    "    \n",
    "print(\"Nota: \", nota)"
   ]
  },
  {
   "cell_type": "markdown",
   "metadata": {},
   "source": [
    "Outro exemplo..."
   ]
  },
  {
   "cell_type": "code",
   "execution_count": 23,
   "metadata": {},
   "outputs": [
    {
     "name": "stdout",
     "output_type": "stream",
     "text": [
      "Digite seu genero: o\n",
      "Digite seu genero: O\n",
      "Genero:  O\n"
     ]
    }
   ],
   "source": [
    "genero = \"\"\n",
    "\n",
    "while genero != \"M\" and genero != \"F\" and genero != \"O\":\n",
    "    genero = input(\"Digite seu genero: \")\n",
    "    \n",
    "print(\"Genero: \", genero)"
   ]
  },
  {
   "cell_type": "markdown",
   "metadata": {},
   "source": [
    "## break, continue e else\n",
    "\n",
    "O while pode ser parado no meio com o break, isso é utilizado caso exista algum(ns) casos excepcionais onde seu código deve parar ou mesmo para poupar processamento em um loop que já fez o que precisava e usava a condição inicial apenas como limite de iterações."
   ]
  },
  {
   "cell_type": "code",
   "execution_count": 18,
   "metadata": {},
   "outputs": [
    {
     "name": "stdout",
     "output_type": "stream",
     "text": [
      "1\n",
      "2\n",
      "fim\n"
     ]
    }
   ],
   "source": [
    "cont = 0\n",
    "\n",
    "while cont < 10:\n",
    "    cont += 1\n",
    "    if cont == 3:\n",
    "        break\n",
    "    print(cont)\n",
    "\n",
    "print(\"fim\")"
   ]
  },
  {
   "cell_type": "markdown",
   "metadata": {},
   "source": [
    "Com o comando continue conseguimos parar uma iteração no meio e recomeçar o bloco do while."
   ]
  },
  {
   "cell_type": "code",
   "execution_count": 19,
   "metadata": {},
   "outputs": [
    {
     "name": "stdout",
     "output_type": "stream",
     "text": [
      "1\n",
      "2\n",
      "4\n",
      "5\n",
      "6\n",
      "7\n",
      "8\n",
      "9\n",
      "10\n",
      "fim\n"
     ]
    }
   ],
   "source": [
    "cont = 0\n",
    "\n",
    "while cont < 10:\n",
    "    cont += 1\n",
    "    if cont == 3:\n",
    "        continue\n",
    "    print(cont)\n",
    "    \n",
    "print(\"fim\")"
   ]
  },
  {
   "cell_type": "markdown",
   "metadata": {},
   "source": [
    "O else aqui vai se comportar como um **\"e então\"**, pois será o bloco de código que rodará quando, se **e somente se**, a condição do while não for mais satisfeita."
   ]
  },
  {
   "cell_type": "code",
   "execution_count": 20,
   "metadata": {},
   "outputs": [
    {
     "name": "stdout",
     "output_type": "stream",
     "text": [
      "1\n",
      "2\n",
      "3\n",
      "4\n"
     ]
    }
   ],
   "source": [
    "cont = 0\n",
    "\n",
    "while cont < 10:\n",
    "    cont += 1\n",
    "    if cont == 5:\n",
    "        break\n",
    "    print(cont)\n",
    "else:\n",
    "    print(\"Fim\")"
   ]
  },
  {
   "cell_type": "code",
   "execution_count": 21,
   "metadata": {},
   "outputs": [
    {
     "name": "stdout",
     "output_type": "stream",
     "text": [
      "1\n",
      "2\n",
      "3\n",
      "4\n",
      "6\n",
      "7\n",
      "8\n",
      "9\n",
      "10\n",
      "Fim\n"
     ]
    }
   ],
   "source": [
    "cont = 0\n",
    "\n",
    "while cont < 10:\n",
    "    cont += 1\n",
    "    if cont == 5:\n",
    "        continue\n",
    "    print(cont)\n",
    "else:\n",
    "    print(\"Fim\")"
   ]
  },
  {
   "cell_type": "code",
   "execution_count": 22,
   "metadata": {},
   "outputs": [
    {
     "name": "stdout",
     "output_type": "stream",
     "text": [
      "Fim\n"
     ]
    }
   ],
   "source": [
    "cont = 11\n",
    "\n",
    "while cont < 10:\n",
    "    cont += 1\n",
    "    print(cont)\n",
    "else:\n",
    "    print(\"Fim\")"
   ]
  },
  {
   "cell_type": "markdown",
   "metadata": {},
   "source": [
    "### Algoritmo que define se um número é primo:"
   ]
  },
  {
   "cell_type": "code",
   "execution_count": 28,
   "metadata": {},
   "outputs": [
    {
     "name": "stdout",
     "output_type": "stream",
     "text": [
      "Qual número deseja testar? 140000\n",
      "O número 140000 não é primo\n"
     ]
    }
   ],
   "source": [
    "numero = int(input(\"Qual número deseja testar? \"))\n",
    "eh_primo = True\n",
    "\n",
    "divisor = 2\n",
    "while divisor <= numero/2:\n",
    "    if numero % divisor == 0:\n",
    "        eh_primo = False\n",
    "        break\n",
    "    divisor += 1\n",
    "\n",
    "\n",
    "if eh_primo:\n",
    "    print(f\"O número {numero} é primo\")\n",
    "else:\n",
    "    print(f\"O número {numero} não é primo\")"
   ]
  },
  {
   "cell_type": "code",
   "execution_count": 27,
   "metadata": {},
   "outputs": [
    {
     "name": "stdout",
     "output_type": "stream",
     "text": [
      "1.02 s ± 22.6 ms per loop (mean ± std. dev. of 7 runs, 1 loop each)\n"
     ]
    }
   ],
   "source": [
    "%%timeit\n",
    "\n",
    "# numero = int(input(\"Qual número deseja testar? \"))\n",
    "numero = 10000000\n",
    "eh_primo = True\n",
    "\n",
    "divisor = 2\n",
    "while divisor <= numero/2:\n",
    "    if numero % divisor == 0:\n",
    "        eh_primo = False\n",
    "    divisor += 1\n",
    "\n",
    "\n",
    "if eh_primo:\n",
    "    pass\n",
    "    #print(f\"O número {numero} é primo\")\n",
    "else:\n",
    "    pass\n",
    "    #print(f\"O número {numero} não é primo\")"
   ]
  },
  {
   "cell_type": "code",
   "execution_count": 29,
   "metadata": {},
   "outputs": [
    {
     "name": "stdout",
     "output_type": "stream",
     "text": [
      "225 ns ± 10.4 ns per loop (mean ± std. dev. of 7 runs, 1000000 loops each)\n"
     ]
    }
   ],
   "source": [
    "%%timeit\n",
    "\n",
    "# numero = int(input(\"Qual número deseja testar? \"))\n",
    "numero = 10000000\n",
    "eh_primo = True\n",
    "\n",
    "divisor = 2\n",
    "while divisor <= numero/2:\n",
    "    if numero % divisor == 0:\n",
    "        eh_primo = False\n",
    "        break\n",
    "    divisor += 1\n",
    "\n",
    "\n",
    "if eh_primo:\n",
    "    pass\n",
    "    #print(f\"O número {numero} é primo\")\n",
    "else:\n",
    "    pass\n",
    "    #print(f\"O número {numero} não é primo\")"
   ]
  },
  {
   "cell_type": "markdown",
   "metadata": {},
   "source": [
    "---\n",
    "\n",
    "## Exercícios\n",
    "\n",
    "**1)** Print the following patterns using loop :\n",
    "\n",
    "a.<br>\n",
    "\n",
    "\\*<br>\n",
    "\\*\\*<br>\n",
    "\\*\\*\\*<br>\n",
    "\\*\\*\\*\\*<br>\n",
    "\n",
    "b.<br>\n",
    "\n",
    "  \\*  <br>\n",
    " \\*\\*\\* <br>\n",
    "\\*\\*\\*\\*\\*<br>\n",
    " \\*\\*\\* <br>\n",
    "  \\*  <br>"
   ]
  },
  {
   "cell_type": "code",
   "execution_count": 11,
   "metadata": {},
   "outputs": [
    {
     "name": "stdout",
     "output_type": "stream",
     "text": [
      "*\n",
      "**\n",
      "***\n",
      "****\n",
      " \n",
      "*\n",
      "***\n",
      "*****\n",
      "***\n",
      "*\n"
     ]
    }
   ],
   "source": [
    "a = \"*\"\n",
    "b = a\n",
    "cont = 1\n",
    "while cont < 5:\n",
    "   print(b)\n",
    "   b += a \n",
    "   cont +=1\n",
    "\n",
    "print(\" \")\n",
    "      \n",
    "b = [\"*\", \"***\", \"*****\", \"***\", \"*\"]\n",
    "cont = 0\n",
    "while cont < len(b):\n",
    "   print(b[cont])\n",
    "   cont += 1      \n",
    "       "
   ]
  },
  {
   "cell_type": "code",
   "execution_count": 1,
   "metadata": {},
   "outputs": [
    {
     "name": "stdout",
     "output_type": "stream",
     "text": [
      "*\n",
      "***\n",
      "*****\n",
      "***\n",
      "*\n"
     ]
    }
   ],
   "source": [
    "#solução do Orlando\n",
    "contador = 0\n",
    "saida =\"*\"\n",
    "n_linhas = 5\n",
    "maximo = n_linhas//2\n",
    "\n",
    "while contador < n_linhas:\n",
    "    print(saida)\n",
    "    if contador < maximo: saida += \"**\"\n",
    "    else: saida = saida[:len(saida)-2]\n",
    "    contador += 1"
   ]
  },
  {
   "cell_type": "code",
   "execution_count": 1,
   "metadata": {},
   "outputs": [
    {
     "name": "stdout",
     "output_type": "stream",
     "text": [
      "*\n",
      "**\n",
      "***\n",
      "****\n"
     ]
    }
   ],
   "source": [
    "a = \"*\"\n",
    "while a != \"*****\":\n",
    "   print(a)\n",
    "   a += \"*\" "
   ]
  },
  {
   "cell_type": "markdown",
   "metadata": {},
   "source": [
    "**2)** Reverse a given integer number"
   ]
  },
  {
   "cell_type": "code",
   "execution_count": 3,
   "metadata": {},
   "outputs": [
    {
     "name": "stdout",
     "output_type": "stream",
     "text": [
      "Digite um número inteiro: 1234560\n",
      "654321\n"
     ]
    }
   ],
   "source": [
    "num = int(input(\"Digite um número inteiro: \"))\n",
    "texto = str(num)\n",
    "\n",
    "num = texto[::-1]\n",
    "\n",
    "print(int(num))\n",
    "    \n"
   ]
  },
  {
   "cell_type": "markdown",
   "metadata": {},
   "source": [
    "**3)** Escreva um programa que encontra o maximo divisor comum entre dois números"
   ]
  },
  {
   "cell_type": "code",
   "execution_count": 3,
   "metadata": {},
   "outputs": [
    {
     "name": "stdout",
     "output_type": "stream",
     "text": [
      "calcular o MDC entre dois números\n",
      "Digite o primeiro número: 9\n",
      "Digite o segundo número: 12\n",
      "O o maximo divisor comum entre 9 e 12 é 3\n"
     ]
    }
   ],
   "source": [
    "print(\"calcular o MDC entre dois números\")\n",
    "n1 = int(input(\"Digite o primeiro número: \"))\n",
    "n2 = int(input(\"Digite o segundo número: \"))\n",
    "\n",
    "a = n1\n",
    "b = n2\n",
    "while b != 0:\n",
    "    resto = a % b\n",
    "    a = b\n",
    "    b = resto\n",
    "\n",
    "print(f\"O o maximo divisor comum entre {n1} e {n2} é {a}\")"
   ]
  },
  {
   "cell_type": "markdown",
   "metadata": {},
   "source": [
    "**4)** Faça a somatória de todos os numeros seguindo a sequência: <br>\n",
    "\n",
    "$ \\frac{1}{1} + \\frac{1}{2} + \\frac{1}{3} + \\frac{1}{4} + \\frac{1}{5} + \\frac{1}{6} + ... + \\frac{1}{1000} $\n",
    "\n"
   ]
  },
  {
   "cell_type": "code",
   "execution_count": 12,
   "metadata": {},
   "outputs": [
    {
     "name": "stdout",
     "output_type": "stream",
     "text": [
      "7.484470860550343\n"
     ]
    }
   ],
   "source": [
    "soma = 0.0\n",
    "cont = 1\n",
    "while cont < 1001:\n",
    "   soma += 1/cont\n",
    "   cont += 1\n",
    "\n",
    "print(soma)\n"
   ]
  },
  {
   "cell_type": "markdown",
   "metadata": {},
   "source": [
    "\n",
    "$ \\frac{1}{1} + \\frac{1}{2} + \\frac{1}{4} + \\frac{1}{8} + \\frac{1}{16} + \\frac{1}{32} + ... + \\frac{1}{2^{n}} $\n",
    "\n"
   ]
  },
  {
   "cell_type": "code",
   "execution_count": 13,
   "metadata": {},
   "outputs": [
    {
     "name": "stdout",
     "output_type": "stream",
     "text": [
      "1\n",
      "2\n",
      "4\n",
      "8\n",
      "16\n",
      "32\n",
      "64\n",
      "128\n",
      "256\n",
      "512\n",
      "1.998046875\n"
     ]
    }
   ],
   "source": [
    "soma = 0.0\n",
    "cont = 1\n",
    "while cont < 1001:\n",
    "   print(cont)\n",
    "   soma += 1/cont\n",
    "   cont += cont\n",
    "\n",
    "print(soma)"
   ]
  },
  {
   "cell_type": "markdown",
   "metadata": {},
   "source": [
    "**5)** Seguindo a mesma ideia do exercício 4, faça a soma da seguinte sequência: <br>\n",
    "\n",
    "$ \\frac{1}{1!} + \\frac{1}{2!} + \\frac{1}{3!} + \\frac{1}{4!} + \\frac{1}{5!} + \\frac{1}{6!} + ... + \\frac{1}{100!} $"
   ]
  },
  {
   "cell_type": "code",
   "execution_count": 3,
   "metadata": {},
   "outputs": [
    {
     "name": "stdout",
     "output_type": "stream",
     "text": [
      "1\n",
      "2\n",
      "3\n",
      "4\n",
      "5\n",
      "6\n",
      "7\n",
      "8\n",
      "9\n",
      "10\n",
      "1.7182818011463847\n"
     ]
    }
   ],
   "source": [
    "# fatorial de um número\n",
    "def fatorial(num):\n",
    "  if num <= 1:\n",
    "    return 1\n",
    "  else:\n",
    "    return num * fatorial(num - 1)\n",
    " \n",
    "\n",
    "def main():\n",
    "   soma = 0.0\n",
    "   cont = 1\n",
    "   while cont < 11:\n",
    "      print(cont)\n",
    "      soma += 1/ fatorial(cont)\n",
    "      cont += 1\n",
    "   print(soma)\n",
    "  \n",
    "if __name__== \"__main__\":\n",
    "  main()"
   ]
  }
 ],
 "metadata": {
  "kernelspec": {
   "display_name": "Python 3 (ipykernel)",
   "language": "python",
   "name": "python3"
  },
  "language_info": {
   "codemirror_mode": {
    "name": "ipython",
    "version": 3
   },
   "file_extension": ".py",
   "mimetype": "text/x-python",
   "name": "python",
   "nbconvert_exporter": "python",
   "pygments_lexer": "ipython3",
   "version": "3.8.9"
  }
 },
 "nbformat": 4,
 "nbformat_minor": 4
}
