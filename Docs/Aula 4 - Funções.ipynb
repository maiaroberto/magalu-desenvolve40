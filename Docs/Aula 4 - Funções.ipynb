{
 "cells": [
  {
   "cell_type": "markdown",
   "metadata": {},
   "source": [
    "# Aula 4 - Funções\n",
    "\n",
    "Na aula de hoje, vamos explorar o seguinte tópico em Python:\n",
    "\n",
    "- 1) Funções\n",
    "_______\n",
    "\n",
    "### Habilidades a serem desenvolvidas\n",
    "\n",
    "Ao final da aula o aluno deve:\n",
    "\n",
    "- Conhecer o conceito de funções e sua importância;\n",
    "- Saber criar funções em Python;"
   ]
  },
  {
   "cell_type": "markdown",
   "metadata": {},
   "source": [
    "___\n",
    "___\n",
    "___\n"
   ]
  },
  {
   "cell_type": "markdown",
   "metadata": {},
   "source": [
    "## 1) Funções\n",
    "\n",
    "Até o momento, já vimos diversas funções em Python.\n",
    "\n",
    "- Na primeira aula, tivemos contato com a função `print()`, que exibe um texto na tela;\n",
    "\n",
    "- Depois, aprendemos sobre a função `input()`, que serve pra capturar algo que o usuário digita;\n",
    "\n",
    "- Em seguida, vimos algumas funções aplicada à listas, como a `sorted()`, para ordenar uma lista;\n"
   ]
  },
  {
   "cell_type": "code",
   "execution_count": 5,
   "metadata": {},
   "outputs": [
    {
     "name": "stdout",
     "output_type": "stream",
     "text": [
      "Olá\n"
     ]
    }
   ],
   "source": [
    "print(\"Olá\")"
   ]
  },
  {
   "cell_type": "code",
   "execution_count": 2,
   "metadata": {},
   "outputs": [
    {
     "name": "stdout",
     "output_type": "stream",
     "text": [
      "digite algo: Algo\n"
     ]
    }
   ],
   "source": [
    "variavel = input(\"digite algo: \")"
   ]
  },
  {
   "cell_type": "code",
   "execution_count": 1,
   "metadata": {},
   "outputs": [
    {
     "name": "stdout",
     "output_type": "stream",
     "text": [
      "3\n"
     ]
    }
   ],
   "source": [
    "maiorValor = max([1, 2, 3])\n",
    "print(maiorValor)"
   ]
  },
  {
   "cell_type": "markdown",
   "metadata": {},
   "source": [
    "\n",
    "A intuição sobre funções, então, já nos é familiar:\n",
    "\n",
    "Uma função é um objeto utilizado para **fazer determinadas ações**.\n",
    "\n",
    "Podemos ver uma função como uma \"caixinha\" que pega uma **entrada** (o argumento), faz algum **processamento**, e então **retorna uma saída** (o output)\n",
    "\n",
    "<img src=\"https://s3.amazonaws.com/illustrativemathematics/images/000/000/782/medium/Task_1_8c7a6a9a2e1421586c40f125bd783de3.jpg?1335065782\" width=300>\n",
    "\n",
    "\n",
    "<img src=\"https://1.bp.blogspot.com/_MhOt9n2UJbM/TC6emeqHdqI/AAAAAAAAAiQ/1brsWuWvOC0/s1600/function-machine.png\" width=300>\n"
   ]
  },
  {
   "cell_type": "markdown",
   "metadata": {},
   "source": [
    "Aprenderemos agora como criar **nossas próprias funções** em Python!"
   ]
  },
  {
   "cell_type": "markdown",
   "metadata": {},
   "source": [
    "A estrutura de **definição de uma função** é dada por:\n",
    "\n",
    "```python\n",
    "def nomeDaFuncao(argumento1, argumento2, ...):\n",
    "    \n",
    "    instrucoes\n",
    "    \n",
    "    return saida\n",
    "```"
   ]
  },
  {
   "cell_type": "markdown",
   "metadata": {},
   "source": [
    "Há 5 elementos fundamentais para a criação de novas funções em Python:\n",
    "\n",
    "- Primeiramente, usamos \"def\" para deixar claro que estamos **definindo** uma função;\n",
    "- Depois, damos um **nome** para nossa função;\n",
    "- Em parênteses, falamos quais serão os **argumentos** da função -- esses são os inputs, e em python, esses elementos são opcionais!\n",
    "- Depois, explicitamos qual é o **processamento** feito pela função;\n",
    "- Ao fim, dizemos o que a função irá **retornar** -- esses são os outputs, e em Python esse elemento é opcional!"
   ]
  },
  {
   "cell_type": "markdown",
   "metadata": {},
   "source": [
    "Sempre que quisermos **executar** uma função, basta **chamá-la**, dando os argumentos desejados!\n",
    "\n",
    "```python\n",
    "nome_da_funcao(argumentos)\n",
    "```"
   ]
  },
  {
   "cell_type": "markdown",
   "metadata": {},
   "source": [
    "__Uma função sem argumentos e sem return__\n",
    "\n",
    "Apenas imprime algo na tela, mas sempre A MESMA COISA\n"
   ]
  },
  {
   "cell_type": "code",
   "execution_count": 1,
   "metadata": {},
   "outputs": [],
   "source": [
    "def cumprimenta():\n",
    "    print(\"Olá!\")"
   ]
  },
  {
   "cell_type": "markdown",
   "metadata": {},
   "source": [
    "__Chamando a função__"
   ]
  },
  {
   "cell_type": "code",
   "execution_count": 2,
   "metadata": {},
   "outputs": [
    {
     "name": "stdout",
     "output_type": "stream",
     "text": [
      "Olá!\n"
     ]
    }
   ],
   "source": [
    "cumprimenta()"
   ]
  },
  {
   "cell_type": "markdown",
   "metadata": {},
   "source": [
    "__Uma função com argumento, mas sem return__\n",
    "\n",
    "Imprime o que eu mandar na tela, como argumento!"
   ]
  },
  {
   "cell_type": "code",
   "execution_count": 3,
   "metadata": {},
   "outputs": [],
   "source": [
    "def cumprimenta(nome):\n",
    "    print(f\"Olá, {nome}\")"
   ]
  },
  {
   "cell_type": "code",
   "execution_count": 4,
   "metadata": {},
   "outputs": [
    {
     "name": "stdout",
     "output_type": "stream",
     "text": [
      "Olá, Bruna\n"
     ]
    }
   ],
   "source": [
    "cumprimenta(\"Bruna\")"
   ]
  },
  {
   "cell_type": "markdown",
   "metadata": {},
   "source": [
    "__Uma função com dois argumentos, mas ainda sem return__\n",
    "\n",
    "Imprime algo na tela, mas dependendo do segundo argumento que eu passar"
   ]
  },
  {
   "cell_type": "code",
   "execution_count": 5,
   "metadata": {},
   "outputs": [],
   "source": [
    "def cumprimentaHorario(nome, hora):\n",
    "    if hora < 12:\n",
    "        print(f\"Bom dia, {nome}\")\n",
    "    elif hora < 18:\n",
    "        print(f\"Boa tarde, {nome}\")\n",
    "    else:\n",
    "        print(f\"Boa noite, {nome}\")"
   ]
  },
  {
   "cell_type": "code",
   "execution_count": 6,
   "metadata": {},
   "outputs": [
    {
     "name": "stdout",
     "output_type": "stream",
     "text": [
      "Boa tarde, André\n"
     ]
    }
   ],
   "source": [
    "cumprimentaHorario(\"André\", 14)"
   ]
  },
  {
   "cell_type": "markdown",
   "metadata": {},
   "source": [
    "Posso mudar a ordem dos argumentos, mas pra isso devo explicitar exatamente quais são os valores que estou passando para quais argumentos!"
   ]
  },
  {
   "cell_type": "code",
   "execution_count": 7,
   "metadata": {},
   "outputs": [
    {
     "name": "stdout",
     "output_type": "stream",
     "text": [
      "Boa tarde, André\n"
     ]
    }
   ],
   "source": [
    "cumprimentaHorario(hora = 14, nome = \"André\")"
   ]
  },
  {
   "cell_type": "markdown",
   "metadata": {},
   "source": [
    "__Mas e o return?__\n",
    "\n",
    "\n",
    "Todas as funções acima de fato fazem alguma operação, mas nõs não conseguimos **acessar** o resultado das operações! Veja um exemplo mais claro: uma função que calcula a soma de dois números:"
   ]
  },
  {
   "cell_type": "code",
   "execution_count": 13,
   "metadata": {},
   "outputs": [],
   "source": [
    "def calcSoma(n1, n2):\n",
    "    soma = n1 + n2\n",
    "    print(soma)"
   ]
  },
  {
   "cell_type": "code",
   "execution_count": 14,
   "metadata": {},
   "outputs": [
    {
     "name": "stdout",
     "output_type": "stream",
     "text": [
      "42\n"
     ]
    }
   ],
   "source": [
    "x = 10\n",
    "calcSoma(x, 32)\n",
    "# print(resultado)"
   ]
  },
  {
   "cell_type": "markdown",
   "metadata": {},
   "source": [
    "Note que a função calcula a soma dos números, mas apenas exibe este resultado com o print! \n",
    "\n",
    "**A variável \"soma\" é uma variável que existe apenas no interior da função!!**"
   ]
  },
  {
   "cell_type": "code",
   "execution_count": 15,
   "metadata": {},
   "outputs": [
    {
     "ename": "NameError",
     "evalue": "name 'soma' is not defined",
     "output_type": "error",
     "traceback": [
      "\u001b[1;31m---------------------------------------------------------------------------\u001b[0m",
      "\u001b[1;31mNameError\u001b[0m                                 Traceback (most recent call last)",
      "\u001b[1;32m~\\AppData\\Local\\Temp/ipykernel_1036/2051608617.py\u001b[0m in \u001b[0;36m<module>\u001b[1;34m\u001b[0m\n\u001b[1;32m----> 1\u001b[1;33m \u001b[0msoma\u001b[0m\u001b[1;33m\u001b[0m\u001b[1;33m\u001b[0m\u001b[0m\n\u001b[0m",
      "\u001b[1;31mNameError\u001b[0m: name 'soma' is not defined"
     ]
    }
   ],
   "source": [
    "soma"
   ]
  },
  {
   "cell_type": "markdown",
   "metadata": {},
   "source": [
    "Se quisermos armazenar o valor da soma, podemos **retornar** o valor desta variável!\n",
    "\n",
    "**OBS.:** apenas o **valor** da variável é retornado, não o nome dela!!\n",
    "\n",
    "Fora da função, o nome de variável \"soma\" ainda continua não existindo!!"
   ]
  },
  {
   "cell_type": "code",
   "execution_count": 17,
   "metadata": {},
   "outputs": [],
   "source": [
    "def calcSoma(n1, n2):\n",
    "    soma = n1 + n2\n",
    "    return soma"
   ]
  },
  {
   "cell_type": "code",
   "execution_count": 18,
   "metadata": {},
   "outputs": [
    {
     "name": "stdout",
     "output_type": "stream",
     "text": [
      "6\n"
     ]
    }
   ],
   "source": [
    "valorSoma = calcSoma(2, 4)\n",
    "print(valorSoma)"
   ]
  },
  {
   "cell_type": "markdown",
   "metadata": {},
   "source": [
    "Daí, basta armazenar o resultado retornado em uma variável, **como fazíamos com o input()!**"
   ]
  },
  {
   "cell_type": "code",
   "execution_count": 19,
   "metadata": {},
   "outputs": [
    {
     "data": {
      "text/plain": [
       "6"
      ]
     },
     "execution_count": 19,
     "metadata": {},
     "output_type": "execute_result"
    }
   ],
   "source": [
    "resultado = calcSoma(2, 4)\n",
    "\n",
    "resultado"
   ]
  },
  {
   "cell_type": "markdown",
   "metadata": {},
   "source": [
    "Um outro exemplo:"
   ]
  },
  {
   "cell_type": "code",
   "execution_count": 20,
   "metadata": {},
   "outputs": [],
   "source": [
    "def cumprimentaHorario(nome, hora):\n",
    "    if hora < 12:\n",
    "        return \"Bom dia, \" + nome\n",
    "    elif hora < 18:\n",
    "        return \"Boa tarde, \" + nome\n",
    "    else:\n",
    "        return \"Boa noite, \" + nome\n",
    "    "
   ]
  },
  {
   "cell_type": "code",
   "execution_count": 8,
   "metadata": {},
   "outputs": [
    {
     "name": "stdout",
     "output_type": "stream",
     "text": [
      "Boa noite, André\n",
      "None\n"
     ]
    }
   ],
   "source": [
    "texto = cumprimentaHorario(\"André\", 19)\n",
    "\n",
    "print(texto)"
   ]
  },
  {
   "cell_type": "markdown",
   "metadata": {},
   "source": [
    "Vamos elaborar um pouco mais?\n",
    "\n",
    "Que tal fazermos uma função calculadora?"
   ]
  },
  {
   "cell_type": "code",
   "execution_count": 14,
   "metadata": {},
   "outputs": [],
   "source": [
    "def calculadora(num1, num2, operacao = \"+\"):\n",
    "    if operacao == \"+\":\n",
    "        return num1 + num2\n",
    "    elif operacao == \"-\":\n",
    "        return num1 - num2\n",
    "    elif operacao == \"*\":\n",
    "        return num1 * num2\n",
    "    elif operacao == \"/\":\n",
    "        return num1 / num2\n",
    "    else: \n",
    "        return \"NÃO ENTENDI!\""
   ]
  },
  {
   "cell_type": "code",
   "execution_count": 16,
   "metadata": {},
   "outputs": [
    {
     "name": "stdout",
     "output_type": "stream",
     "text": [
      "7\n"
     ]
    }
   ],
   "source": [
    "# eracao = input(\"Digite a operação (+,-,*,/): \")\n",
    "print(calculadora(5, 2))\n"
   ]
  },
  {
   "cell_type": "code",
   "execution_count": 24,
   "metadata": {},
   "outputs": [
    {
     "name": "stdout",
     "output_type": "stream",
     "text": [
      "[1, 2, 3]\n",
      "[1, 2, 3]\n",
      "['a', 2, 3]\n",
      "['a', 2, 3]\n",
      "82855168\n",
      "82855168\n"
     ]
    }
   ],
   "source": [
    "lista1 = [1,2,3]\n",
    "lista2 = lista1\n",
    "print(lista1)\n",
    "print(lista2)\n",
    "lista2[0] = 'a'\n",
    "print(lista1)\n",
    "print(lista2)\n",
    "print(id(lista1))\n",
    "print(id(lista2))"
   ]
  },
  {
   "cell_type": "code",
   "execution_count": null,
   "metadata": {},
   "outputs": [],
   "source": [
    "lista1 = [1,2,3]\n",
    "lista2 = lista1.copy()\n",
    "print(lista1)\n",
    "print(lista2)\n",
    "lista2[0] = 'a'\n",
    "print(lista1)\n",
    "print(lista2)\n",
    "print(id(lista1))\n",
    "print(id(lista2))"
   ]
  },
  {
   "cell_type": "code",
   "execution_count": 11,
   "metadata": {},
   "outputs": [
    {
     "data": {
      "text/plain": [
       "8"
      ]
     },
     "execution_count": 11,
     "metadata": {},
     "output_type": "execute_result"
    }
   ],
   "source": [
    "calculadora(3, 5)"
   ]
  },
  {
   "cell_type": "markdown",
   "metadata": {},
   "source": [
    "Também é possível utilizar a função calculadora para definir uma função que calcula a média entre dois números:"
   ]
  },
  {
   "cell_type": "code",
   "execution_count": 26,
   "metadata": {},
   "outputs": [],
   "source": [
    "def media(num1, num2):\n",
    "    \n",
    "    return calculadora(num1, num2)/2"
   ]
  },
  {
   "cell_type": "code",
   "execution_count": 27,
   "metadata": {},
   "outputs": [
    {
     "name": "stdout",
     "output_type": "stream",
     "text": [
      "8.5\n"
     ]
    }
   ],
   "source": [
    "print(media(7, 10))"
   ]
  },
  {
   "cell_type": "markdown",
   "metadata": {},
   "source": [
    "## Exercícios\n",
    "\n",
    "\n",
    "Faça uma função que recebe dois parâmetros: linhas e colunas e desenhe uma tabela usando os caracteres (-, |, + e espaços) com essas dimensões, exemplo:\n",
    "\n",
    "linhas: 3\n",
    "colunas: 5\n",
    "\n",
    "    -----------\n",
    "    | | | | | |\n",
    "    |-+-+-+-+-|\n",
    "    | | | | | |\n",
    "    |-+-+-+-+-|\n",
    "    | | | | | |\n",
    "    -----------"
   ]
  },
  {
   "cell_type": "code",
   "execution_count": 20,
   "metadata": {},
   "outputs": [
    {
     "name": "stdout",
     "output_type": "stream",
     "text": [
      "Desenha Tabela\n",
      "linhas  : 1\n",
      "Colunas : 1\n",
      "---\n",
      "| |\n",
      "---\n"
     ]
    }
   ],
   "source": [
    "def topoBase(c):\n",
    "    print(\"-\" * (c*2 + 1))\n",
    "    return\n",
    "\n",
    "def meio(c):\n",
    "    texto = \"|\"\n",
    "    n = 1    \n",
    "    \n",
    "    while n <= c:\n",
    "        if n < c:\n",
    "            texto += \"-+\"\n",
    "        else:\n",
    "            texto += \"-|\" \n",
    "        n += 1    \n",
    "        \n",
    "    print(texto)\n",
    "    return\n",
    "\n",
    "def miolo(c):\n",
    "    print(\"|\" + (\" |\" * c) )\n",
    "    return\n",
    "\n",
    "print(\"Desenha Tabela\")\n",
    "\n",
    "linha = 0\n",
    "coluna = 0\n",
    "while linha <= 0 or coluna <=0:\n",
    "    linha = int(input(\"linhas  : \"))\n",
    "    coluna = int(input(\"Colunas : \"))\n",
    "    \n",
    "i = 1\n",
    "topoBase(coluna)   \n",
    "while i <= linha:\n",
    "    miolo(coluna) \n",
    "    i += 1\n",
    "    if i <= linha:\n",
    "        meio(coluna)\n",
    "topoBase(coluna)    \n"
   ]
  },
  {
   "cell_type": "code",
   "execution_count": 24,
   "metadata": {},
   "outputs": [
    {
     "name": "stdout",
     "output_type": "stream",
     "text": [
      "Digite o número de linhas (> 0): 2\n",
      "Digite o número de colunas (> 02\n",
      "-----\n",
      "| | |\n",
      "|-+-|\n",
      "| | |\n",
      "-----\n"
     ]
    }
   ],
   "source": [
    "# Solução do Ricardo.\n",
    "linhas = -1\n",
    "colunas = -1\n",
    "\n",
    "while linhas <= 0:\n",
    "    linhas = int(input(\"Digite o número de linhas (> 0): \"))\n",
    "\n",
    "while colunas <= 0:\n",
    "    colunas = int(input(\"Digite o número de colunas (> 0\"))\n",
    "\n",
    "acabamento = \"-\" * (colunas * 2 + 1)\n",
    "\n",
    "miolo_t1 = \"|\" + \" |\" * colunas\n",
    "\n",
    "if (colunas == 1):\n",
    "    miolo_t2 = \"| |\"\n",
    "else:\n",
    "    miolo_t2 = \"|\" + \"-+\" * (colunas - 1)+ \"-|\"\n",
    "\n",
    "\n",
    "cont = 1\n",
    "print(acabamento)\n",
    "while cont <= (linhas -1) *2 + 1:\n",
    "    print(miolo_t1 if cont%2 != 0 else miolo_t2)\n",
    "    cont += 1  \n",
    "print(acabamento)"
   ]
  },
  {
   "cell_type": "markdown",
   "metadata": {},
   "source": [
    "Faça uma função que recebe um texto e um letra e retorne a quantidade daquela letra naquele texto (ignore diferenças de capitalização, 'A' e 'a' são a mesma letra)"
   ]
  },
  {
   "cell_type": "code",
   "execution_count": 17,
   "metadata": {},
   "outputs": [
    {
     "name": "stdout",
     "output_type": "stream",
     "text": [
      "3\n"
     ]
    }
   ],
   "source": [
    "def contaLetras(texto, letra):\n",
    "    conta = 0\n",
    "    cont = 0\n",
    "    while cont < len(texto):\n",
    "        if texto[cont] == letra: conta +=1 \n",
    "        cont += 1    \n",
    "    return conta\n",
    "\n",
    "texto = \"asdf asdf asdf asdaaa\"\n",
    "letra = \"f\"\n",
    "\n",
    "print(contaLetras(texto, letra))\n"
   ]
  },
  {
   "cell_type": "markdown",
   "metadata": {},
   "source": [
    "Faça uma função que recebe um inteiro n e retorna uma lista com os n primeiros elementros da sequência de fibonacci\n",
    "\n",
    "1, 1, 2, 3, 5, 8, 13, 21, 34, 55, 89, 144"
   ]
  },
  {
   "cell_type": "code",
   "execution_count": 13,
   "metadata": {},
   "outputs": [
    {
     "name": "stdout",
     "output_type": "stream",
     "text": [
      "Inserir numero para gerar a sequência de Fibonnaci :11\n",
      "[1, 1, 2, 3, 5, 8, 13, 21, 34, 55, 89, 144]\n"
     ]
    }
   ],
   "source": [
    "def fibo(n):\n",
    "    u_1 = 1\n",
    "    u_2 = 1\n",
    "    count = 0\n",
    "\n",
    "    lista = [1,1]\n",
    "\n",
    "    for vic in range(0, n-2):\n",
    "        count = u_1 + u_2\n",
    "        u_1 = count\n",
    "        u_2 = (count - u_2)\n",
    "        lista.append(count)\n",
    "\n",
    "    return(lista)\n",
    "\n",
    "n = int(input('Inserir numero para gerar a sequência de Fibonnaci :'))\n",
    "\n",
    "print(fibo(n))\n"
   ]
  },
  {
   "cell_type": "markdown",
   "metadata": {},
   "source": [
    "Faça uma função maxLista que faz a mesma coisa que a funcão _max_ faz ao receber uma lista (Sem usar o max ou sort)"
   ]
  },
  {
   "cell_type": "code",
   "execution_count": 14,
   "metadata": {},
   "outputs": [
    {
     "name": "stdout",
     "output_type": "stream",
     "text": [
      "111\n"
     ]
    }
   ],
   "source": [
    "def maxLista(lista):\n",
    "    maximo = lista[0]\n",
    "    cont = 0\n",
    "    while cont < len(lista):\n",
    "        if lista[cont] > maximo: maximo = lista[cont] \n",
    "        cont += 1    \n",
    "    return maximo\n",
    "\n",
    "lista = [-1, -32, -4, -110, -9, 111]\n",
    "\n",
    "print(maxLista(lista))\n"
   ]
  },
  {
   "cell_type": "code",
   "execution_count": null,
   "metadata": {},
   "outputs": [],
   "source": []
  },
  {
   "cell_type": "markdown",
   "metadata": {},
   "source": [
    "Questão #1\n",
    "Vale\n",
    "20\n",
    "Enunciado\n",
    "Crie uma função que recebe uma lista e retorna True se todos os elementos forem do mesmo tipo e False caso contrário."
   ]
  },
  {
   "cell_type": "code",
   "execution_count": 24,
   "metadata": {},
   "outputs": [
    {
     "name": "stdout",
     "output_type": "stream",
     "text": [
      "False\n"
     ]
    }
   ],
   "source": [
    "def mesmoTipo(lista):\n",
    "    tipo = type(lista[0])\n",
    "    retorno = True\n",
    "    cont = 1\n",
    "    while cont < len(lista):\n",
    "        if type(lista[cont]) != tipo:\n",
    "             return False\n",
    "        cont += 1\n",
    "    return True\n",
    "\n",
    "lista = [True, False, 0]\n",
    "\n",
    "print(mesmoTipo(lista))\n",
    "        \n",
    "    "
   ]
  },
  {
   "cell_type": "markdown",
   "metadata": {},
   "source": [
    "Questão 2\n",
    "Vale\n",
    "20\n",
    "Enunciado\n",
    "Crie uma função que receba uma lista e retorne uma nova lista com os elementos únicos da primeira lista. Ex: [1, 1, 2, 2, 2, 3, 4, 4, 5, 5] Retorna: [1, 2, 3, 4, 5]"
   ]
  },
  {
   "cell_type": "code",
   "execution_count": 30,
   "metadata": {},
   "outputs": [
    {
     "name": "stdout",
     "output_type": "stream",
     "text": [
      "[1, 2, 3, 4, 5]\n"
     ]
    }
   ],
   "source": [
    "def unica(lista):\n",
    "    cont = 0\n",
    "    saida = []\n",
    "    while cont < len(lista):\n",
    "        if not lista[cont] in saida:\n",
    "            saida.append(lista[cont])\n",
    "        cont += 1\n",
    "    return saida\n",
    "\n",
    "lista = [1, 1, 2, 2, 2, 3, 4, 4, 5, 5]\n",
    "\n",
    "print(unica(lista))    "
   ]
  },
  {
   "cell_type": "code",
   "execution_count": null,
   "metadata": {},
   "outputs": [],
   "source": [
    "def mesmoTipo(lista):\n",
    "    tipo = type(lista[0])\n",
    "    retorno = True\n",
    "    cont = 1\n",
    "    while cont < len(lista):\n",
    "        if type(lista[cont]) != tipo:\n",
    "             return False\n",
    "        cont += 1\n",
    "    return True\n",
    "\n",
    "lista = [True, False, 0]\n",
    "\n",
    "print(mesmoTipo(lista))"
   ]
  },
  {
   "cell_type": "markdown",
   "metadata": {},
   "source": [
    "Questão #3\n",
    "Vale\n",
    "20\n",
    "Enunciado\n",
    "Faça uma função que recebe um dia da semana identificado como 0=Dom, 1=Seg, 2=Ter, ... 6=Sáb, e um booleano indicando se estamos ou não em férias. Retorne uma string na forma \"HH:MM\" indicando a hora em que o alarme deve tocar. Em dias de semana, o alarme deve tocar às \"07:00\" e nos fins de semana, o alarme deve tocar às \"10:00\". A menos que estejamos de férias. Neste caso, em dias de semana, o alarme deve tocar às \"10:00\" e em fins de semana a resposta do alarme deve ser \"off\"."
   ]
  },
  {
   "cell_type": "code",
   "execution_count": 36,
   "metadata": {},
   "outputs": [
    {
     "name": "stdout",
     "output_type": "stream",
     "text": [
      "10:00\n"
     ]
    }
   ],
   "source": [
    "def alarme(dia, ferias):\n",
    "    hora = \"\"\n",
    "    if dia in [1,2,3,4,5]:\n",
    "        hora = \"10:00\" if ferias else \"07:00\"\n",
    "    else:\n",
    "        hora = \"off\" if ferias else \"10:00\"\n",
    "    return hora\n",
    "\n",
    "print(alarme(6, False))"
   ]
  },
  {
   "cell_type": "code",
   "execution_count": null,
   "metadata": {},
   "outputs": [],
   "source": []
  },
  {
   "cell_type": "code",
   "execution_count": 39,
   "metadata": {},
   "outputs": [
    {
     "name": "stdout",
     "output_type": "stream",
     "text": [
      "8\n"
     ]
    }
   ],
   "source": [
    "def potencia(base,expoente):\n",
    "    contador = 1\n",
    "    valor = 1\n",
    "    while contador <= expoente:\n",
    "        valor *= base\n",
    "        contador+=1\n",
    "        \n",
    "    return valor\n",
    "\n",
    "print(potencia(3,3))"
   ]
  },
  {
   "cell_type": "markdown",
   "metadata": {},
   "source": [
    "Questão #5\n",
    "Vale\n",
    "20\n",
    "Enunciado\n",
    "Faça uma função que receba as coordenadas de dois pontos cartesianos no formato de duas listas [x1, y1] e [x2, y2] e retorne a distância euclidiana entre os pontos com 2 casas decimais.\n",
    "\n"
   ]
  },
  {
   "cell_type": "code",
   "execution_count": 43,
   "metadata": {},
   "outputs": [
    {
     "name": "stdout",
     "output_type": "stream",
     "text": [
      "10.0\n"
     ]
    }
   ],
   "source": [
    "def distancia(ponto1,ponto2):\n",
    "    dif_x = (ponto1[0]-ponto2[0])**2\n",
    "    dif_y = (ponto1[1]-ponto2[1])**2\n",
    "    return (dif_x + dif_y)**0.5\n",
    "    \n",
    "\n",
    "print(distancia([-2,5],[4,-3]))"
   ]
  },
  {
   "cell_type": "code",
   "execution_count": null,
   "metadata": {},
   "outputs": [],
   "source": []
  }
 ],
 "metadata": {
  "kernelspec": {
   "display_name": "Python 3 (ipykernel)",
   "language": "python",
   "name": "python3"
  },
  "language_info": {
   "codemirror_mode": {
    "name": "ipython",
    "version": 3
   },
   "file_extension": ".py",
   "mimetype": "text/x-python",
   "name": "python",
   "nbconvert_exporter": "python",
   "pygments_lexer": "ipython3",
   "version": "3.8.9"
  },
  "varInspector": {
   "cols": {
    "lenName": 16,
    "lenType": 16,
    "lenVar": 40
   },
   "kernels_config": {
    "python": {
     "delete_cmd_postfix": "",
     "delete_cmd_prefix": "del ",
     "library": "var_list.py",
     "varRefreshCmd": "print(var_dic_list())"
    },
    "r": {
     "delete_cmd_postfix": ") ",
     "delete_cmd_prefix": "rm(",
     "library": "var_list.r",
     "varRefreshCmd": "cat(var_dic_list()) "
    }
   },
   "types_to_exclude": [
    "module",
    "function",
    "builtin_function_or_method",
    "instance",
    "_Feature"
   ],
   "window_display": false
  }
 },
 "nbformat": 4,
 "nbformat_minor": 2
}
